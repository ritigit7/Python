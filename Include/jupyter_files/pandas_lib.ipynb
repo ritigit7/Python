{
 "cells": [
  {
   "cell_type": "code",
   "execution_count": 1,
   "metadata": {},
   "outputs": [
    {
     "ename": "ServerSelectionTimeoutError",
     "evalue": "localhost:27017: [WinError 10061] No connection could be made because the target machine actively refused it (configured timeouts: socketTimeoutMS: 20000.0ms, connectTimeoutMS: 20000.0ms), Timeout: 30s, Topology Description: <TopologyDescription id: 65978159299b93647f2ac3a5, topology_type: Unknown, servers: [<ServerDescription ('localhost', 27017) server_type: Unknown, rtt: None, error=AutoReconnect('localhost:27017: [WinError 10061] No connection could be made because the target machine actively refused it (configured timeouts: socketTimeoutMS: 20000.0ms, connectTimeoutMS: 20000.0ms)')>]>",
     "output_type": "error",
     "traceback": [
      "\u001b[1;31m---------------------------------------------------------------------------\u001b[0m",
      "\u001b[1;31mServerSelectionTimeoutError\u001b[0m               Traceback (most recent call last)",
      "Cell \u001b[1;32mIn[1], line 9\u001b[0m\n\u001b[0;32m      6\u001b[0m collection \u001b[38;5;241m=\u001b[39m database[\u001b[38;5;124m\"\u001b[39m\u001b[38;5;124mtodo\u001b[39m\u001b[38;5;124m\"\u001b[39m]\n\u001b[0;32m      8\u001b[0m cursor \u001b[38;5;241m=\u001b[39mcollection\u001b[38;5;241m.\u001b[39mfind({})\n\u001b[1;32m----> 9\u001b[0m df\u001b[38;5;241m=\u001b[39m\u001b[43mpd\u001b[49m\u001b[38;5;241;43m.\u001b[39;49m\u001b[43mDataFrame\u001b[49m\u001b[43m(\u001b[49m\u001b[43mcursor\u001b[49m\u001b[43m)\u001b[49m\n\u001b[0;32m     10\u001b[0m \u001b[38;5;28mprint\u001b[39m(df)\n",
      "File \u001b[1;32md:\\python programs\\All\\.venv\\Lib\\site-packages\\pandas\\core\\frame.py:798\u001b[0m, in \u001b[0;36mDataFrame.__init__\u001b[1;34m(self, data, index, columns, dtype, copy)\u001b[0m\n\u001b[0;32m    796\u001b[0m         data \u001b[38;5;241m=\u001b[39m np\u001b[38;5;241m.\u001b[39masarray(data)\n\u001b[0;32m    797\u001b[0m     \u001b[38;5;28;01melse\u001b[39;00m:\n\u001b[1;32m--> 798\u001b[0m         data \u001b[38;5;241m=\u001b[39m \u001b[38;5;28;43mlist\u001b[39;49m\u001b[43m(\u001b[49m\u001b[43mdata\u001b[49m\u001b[43m)\u001b[49m\n\u001b[0;32m    799\u001b[0m \u001b[38;5;28;01mif\u001b[39;00m \u001b[38;5;28mlen\u001b[39m(data) \u001b[38;5;241m>\u001b[39m \u001b[38;5;241m0\u001b[39m:\n\u001b[0;32m    800\u001b[0m     \u001b[38;5;28;01mif\u001b[39;00m is_dataclass(data[\u001b[38;5;241m0\u001b[39m]):\n",
      "File \u001b[1;32md:\\python programs\\All\\.venv\\Lib\\site-packages\\pymongo\\cursor.py:1264\u001b[0m, in \u001b[0;36mCursor.next\u001b[1;34m(self)\u001b[0m\n\u001b[0;32m   1262\u001b[0m \u001b[38;5;28;01mif\u001b[39;00m \u001b[38;5;28mself\u001b[39m\u001b[38;5;241m.\u001b[39m__empty:\n\u001b[0;32m   1263\u001b[0m     \u001b[38;5;28;01mraise\u001b[39;00m \u001b[38;5;167;01mStopIteration\u001b[39;00m\n\u001b[1;32m-> 1264\u001b[0m \u001b[38;5;28;01mif\u001b[39;00m \u001b[38;5;28mlen\u001b[39m(\u001b[38;5;28mself\u001b[39m\u001b[38;5;241m.\u001b[39m__data) \u001b[38;5;129;01mor\u001b[39;00m \u001b[38;5;28;43mself\u001b[39;49m\u001b[38;5;241;43m.\u001b[39;49m\u001b[43m_refresh\u001b[49m\u001b[43m(\u001b[49m\u001b[43m)\u001b[49m:\n\u001b[0;32m   1265\u001b[0m     \u001b[38;5;28;01mreturn\u001b[39;00m \u001b[38;5;28mself\u001b[39m\u001b[38;5;241m.\u001b[39m__data\u001b[38;5;241m.\u001b[39mpopleft()\n\u001b[0;32m   1266\u001b[0m \u001b[38;5;28;01melse\u001b[39;00m:\n",
      "File \u001b[1;32md:\\python programs\\All\\.venv\\Lib\\site-packages\\pymongo\\cursor.py:1155\u001b[0m, in \u001b[0;36mCursor._refresh\u001b[1;34m(self)\u001b[0m\n\u001b[0;32m   1152\u001b[0m     \u001b[38;5;28;01mreturn\u001b[39;00m \u001b[38;5;28mlen\u001b[39m(\u001b[38;5;28mself\u001b[39m\u001b[38;5;241m.\u001b[39m__data)\n\u001b[0;32m   1154\u001b[0m \u001b[38;5;28;01mif\u001b[39;00m \u001b[38;5;129;01mnot\u001b[39;00m \u001b[38;5;28mself\u001b[39m\u001b[38;5;241m.\u001b[39m__session:\n\u001b[1;32m-> 1155\u001b[0m     \u001b[38;5;28mself\u001b[39m\u001b[38;5;241m.\u001b[39m__session \u001b[38;5;241m=\u001b[39m \u001b[38;5;28;43mself\u001b[39;49m\u001b[38;5;241;43m.\u001b[39;49m\u001b[43m__collection\u001b[49m\u001b[38;5;241;43m.\u001b[39;49m\u001b[43mdatabase\u001b[49m\u001b[38;5;241;43m.\u001b[39;49m\u001b[43mclient\u001b[49m\u001b[38;5;241;43m.\u001b[39;49m\u001b[43m_ensure_session\u001b[49m\u001b[43m(\u001b[49m\u001b[43m)\u001b[49m\n\u001b[0;32m   1157\u001b[0m \u001b[38;5;28;01mif\u001b[39;00m \u001b[38;5;28mself\u001b[39m\u001b[38;5;241m.\u001b[39m__id \u001b[38;5;129;01mis\u001b[39;00m \u001b[38;5;28;01mNone\u001b[39;00m:  \u001b[38;5;66;03m# Query\u001b[39;00m\n\u001b[0;32m   1158\u001b[0m     \u001b[38;5;28;01mif\u001b[39;00m (\u001b[38;5;28mself\u001b[39m\u001b[38;5;241m.\u001b[39m__min \u001b[38;5;129;01mor\u001b[39;00m \u001b[38;5;28mself\u001b[39m\u001b[38;5;241m.\u001b[39m__max) \u001b[38;5;129;01mand\u001b[39;00m \u001b[38;5;129;01mnot\u001b[39;00m \u001b[38;5;28mself\u001b[39m\u001b[38;5;241m.\u001b[39m__hint:\n",
      "File \u001b[1;32md:\\python programs\\All\\.venv\\Lib\\site-packages\\pymongo\\mongo_client.py:1823\u001b[0m, in \u001b[0;36mMongoClient._ensure_session\u001b[1;34m(self, session)\u001b[0m\n\u001b[0;32m   1818\u001b[0m     \u001b[38;5;28;01mreturn\u001b[39;00m session\n\u001b[0;32m   1820\u001b[0m \u001b[38;5;28;01mtry\u001b[39;00m:\n\u001b[0;32m   1821\u001b[0m     \u001b[38;5;66;03m# Don't make implicit sessions causally consistent. Applications\u001b[39;00m\n\u001b[0;32m   1822\u001b[0m     \u001b[38;5;66;03m# should always opt-in.\u001b[39;00m\n\u001b[1;32m-> 1823\u001b[0m     \u001b[38;5;28;01mreturn\u001b[39;00m \u001b[38;5;28;43mself\u001b[39;49m\u001b[38;5;241;43m.\u001b[39;49m\u001b[43m__start_session\u001b[49m\u001b[43m(\u001b[49m\u001b[38;5;28;43;01mTrue\u001b[39;49;00m\u001b[43m,\u001b[49m\u001b[43m \u001b[49m\u001b[43mcausal_consistency\u001b[49m\u001b[38;5;241;43m=\u001b[39;49m\u001b[38;5;28;43;01mFalse\u001b[39;49;00m\u001b[43m)\u001b[49m\n\u001b[0;32m   1824\u001b[0m \u001b[38;5;28;01mexcept\u001b[39;00m (ConfigurationError, InvalidOperation):\n\u001b[0;32m   1825\u001b[0m     \u001b[38;5;66;03m# Sessions not supported.\u001b[39;00m\n\u001b[0;32m   1826\u001b[0m     \u001b[38;5;28;01mreturn\u001b[39;00m \u001b[38;5;28;01mNone\u001b[39;00m\n",
      "File \u001b[1;32md:\\python programs\\All\\.venv\\Lib\\site-packages\\pymongo\\mongo_client.py:1766\u001b[0m, in \u001b[0;36mMongoClient.__start_session\u001b[1;34m(self, implicit, **kwargs)\u001b[0m\n\u001b[0;32m   1763\u001b[0m \u001b[38;5;28;01mdef\u001b[39;00m \u001b[38;5;21m__start_session\u001b[39m(\u001b[38;5;28mself\u001b[39m, implicit: \u001b[38;5;28mbool\u001b[39m, \u001b[38;5;241m*\u001b[39m\u001b[38;5;241m*\u001b[39mkwargs: Any) \u001b[38;5;241m-\u001b[39m\u001b[38;5;241m>\u001b[39m ClientSession:\n\u001b[0;32m   1764\u001b[0m     \u001b[38;5;66;03m# Raises ConfigurationError if sessions are not supported.\u001b[39;00m\n\u001b[0;32m   1765\u001b[0m     \u001b[38;5;28;01mif\u001b[39;00m implicit:\n\u001b[1;32m-> 1766\u001b[0m         \u001b[38;5;28;43mself\u001b[39;49m\u001b[38;5;241;43m.\u001b[39;49m\u001b[43m_topology\u001b[49m\u001b[38;5;241;43m.\u001b[39;49m\u001b[43m_check_implicit_session_support\u001b[49m\u001b[43m(\u001b[49m\u001b[43m)\u001b[49m\n\u001b[0;32m   1767\u001b[0m         server_session: Union[_EmptyServerSession, _ServerSession] \u001b[38;5;241m=\u001b[39m _EmptyServerSession()\n\u001b[0;32m   1768\u001b[0m     \u001b[38;5;28;01melse\u001b[39;00m:\n",
      "File \u001b[1;32md:\\python programs\\All\\.venv\\Lib\\site-packages\\pymongo\\topology.py:573\u001b[0m, in \u001b[0;36mTopology._check_implicit_session_support\u001b[1;34m(self)\u001b[0m\n\u001b[0;32m    571\u001b[0m \u001b[38;5;28;01mdef\u001b[39;00m \u001b[38;5;21m_check_implicit_session_support\u001b[39m(\u001b[38;5;28mself\u001b[39m) \u001b[38;5;241m-\u001b[39m\u001b[38;5;241m>\u001b[39m \u001b[38;5;28;01mNone\u001b[39;00m:\n\u001b[0;32m    572\u001b[0m     \u001b[38;5;28;01mwith\u001b[39;00m \u001b[38;5;28mself\u001b[39m\u001b[38;5;241m.\u001b[39m_lock:\n\u001b[1;32m--> 573\u001b[0m         \u001b[38;5;28;43mself\u001b[39;49m\u001b[38;5;241;43m.\u001b[39;49m\u001b[43m_check_session_support\u001b[49m\u001b[43m(\u001b[49m\u001b[43m)\u001b[49m\n",
      "File \u001b[1;32md:\\python programs\\All\\.venv\\Lib\\site-packages\\pymongo\\topology.py:589\u001b[0m, in \u001b[0;36mTopology._check_session_support\u001b[1;34m(self)\u001b[0m\n\u001b[0;32m    585\u001b[0m         \u001b[38;5;28mself\u001b[39m\u001b[38;5;241m.\u001b[39m_select_servers_loop(\n\u001b[0;32m    586\u001b[0m             any_server_selector, \u001b[38;5;28mself\u001b[39m\u001b[38;5;241m.\u001b[39mget_server_selection_timeout(), \u001b[38;5;28;01mNone\u001b[39;00m\n\u001b[0;32m    587\u001b[0m         )\n\u001b[0;32m    588\u001b[0m \u001b[38;5;28;01melif\u001b[39;00m \u001b[38;5;129;01mnot\u001b[39;00m \u001b[38;5;28mself\u001b[39m\u001b[38;5;241m.\u001b[39m_description\u001b[38;5;241m.\u001b[39mreadable_servers:\n\u001b[1;32m--> 589\u001b[0m     \u001b[38;5;28;43mself\u001b[39;49m\u001b[38;5;241;43m.\u001b[39;49m\u001b[43m_select_servers_loop\u001b[49m\u001b[43m(\u001b[49m\n\u001b[0;32m    590\u001b[0m \u001b[43m        \u001b[49m\u001b[43mreadable_server_selector\u001b[49m\u001b[43m,\u001b[49m\u001b[43m \u001b[49m\u001b[38;5;28;43mself\u001b[39;49m\u001b[38;5;241;43m.\u001b[39;49m\u001b[43mget_server_selection_timeout\u001b[49m\u001b[43m(\u001b[49m\u001b[43m)\u001b[49m\u001b[43m,\u001b[49m\u001b[43m \u001b[49m\u001b[38;5;28;43;01mNone\u001b[39;49;00m\n\u001b[0;32m    591\u001b[0m \u001b[43m    \u001b[49m\u001b[43m)\u001b[49m\n\u001b[0;32m    593\u001b[0m session_timeout \u001b[38;5;241m=\u001b[39m \u001b[38;5;28mself\u001b[39m\u001b[38;5;241m.\u001b[39m_description\u001b[38;5;241m.\u001b[39mlogical_session_timeout_minutes\n\u001b[0;32m    594\u001b[0m \u001b[38;5;28;01mif\u001b[39;00m session_timeout \u001b[38;5;129;01mis\u001b[39;00m \u001b[38;5;28;01mNone\u001b[39;00m:\n",
      "File \u001b[1;32md:\\python programs\\All\\.venv\\Lib\\site-packages\\pymongo\\topology.py:259\u001b[0m, in \u001b[0;36mTopology._select_servers_loop\u001b[1;34m(self, selector, timeout, address)\u001b[0m\n\u001b[0;32m    256\u001b[0m \u001b[38;5;28;01mwhile\u001b[39;00m \u001b[38;5;129;01mnot\u001b[39;00m server_descriptions:\n\u001b[0;32m    257\u001b[0m     \u001b[38;5;66;03m# No suitable servers.\u001b[39;00m\n\u001b[0;32m    258\u001b[0m     \u001b[38;5;28;01mif\u001b[39;00m timeout \u001b[38;5;241m==\u001b[39m \u001b[38;5;241m0\u001b[39m \u001b[38;5;129;01mor\u001b[39;00m now \u001b[38;5;241m>\u001b[39m end_time:\n\u001b[1;32m--> 259\u001b[0m         \u001b[38;5;28;01mraise\u001b[39;00m ServerSelectionTimeoutError(\n\u001b[0;32m    260\u001b[0m             \u001b[38;5;124mf\u001b[39m\u001b[38;5;124m\"\u001b[39m\u001b[38;5;132;01m{\u001b[39;00m\u001b[38;5;28mself\u001b[39m\u001b[38;5;241m.\u001b[39m_error_message(selector)\u001b[38;5;132;01m}\u001b[39;00m\u001b[38;5;124m, Timeout: \u001b[39m\u001b[38;5;132;01m{\u001b[39;00mtimeout\u001b[38;5;132;01m}\u001b[39;00m\u001b[38;5;124ms, Topology Description: \u001b[39m\u001b[38;5;132;01m{\u001b[39;00m\u001b[38;5;28mself\u001b[39m\u001b[38;5;241m.\u001b[39mdescription\u001b[38;5;132;01m!r}\u001b[39;00m\u001b[38;5;124m\"\u001b[39m\n\u001b[0;32m    261\u001b[0m         )\n\u001b[0;32m    263\u001b[0m     \u001b[38;5;28mself\u001b[39m\u001b[38;5;241m.\u001b[39m_ensure_opened()\n\u001b[0;32m    264\u001b[0m     \u001b[38;5;28mself\u001b[39m\u001b[38;5;241m.\u001b[39m_request_check_all()\n",
      "\u001b[1;31mServerSelectionTimeoutError\u001b[0m: localhost:27017: [WinError 10061] No connection could be made because the target machine actively refused it (configured timeouts: socketTimeoutMS: 20000.0ms, connectTimeoutMS: 20000.0ms), Timeout: 30s, Topology Description: <TopologyDescription id: 65978159299b93647f2ac3a5, topology_type: Unknown, servers: [<ServerDescription ('localhost', 27017) server_type: Unknown, rtt: None, error=AutoReconnect('localhost:27017: [WinError 10061] No connection could be made because the target machine actively refused it (configured timeouts: socketTimeoutMS: 20000.0ms, connectTimeoutMS: 20000.0ms)')>]>"
     ]
    }
   ],
   "source": [
    "import pandas as pd\n",
    "import pymongo\n",
    "\n",
    "client = pymongo.MongoClient(\"mongodb://localhost:27017/\")\n",
    "database = client[\"testdb\"]\n",
    "collection = database[\"todo\"]\n",
    "\n",
    "cursor =collection.find({})\n",
    "df=pd.DataFrame(cursor)\n",
    "print(df)"
   ]
  },
  {
   "cell_type": "code",
   "execution_count": null,
   "metadata": {},
   "outputs": [
    {
     "name": "stdout",
     "output_type": "stream",
     "text": [
      "index\n",
      "0      409.1\n",
      "1      479.0\n",
      "2      340.0\n",
      "3      282.4\n",
      "4      406.0\n",
      "       ...  \n",
      "164    290.8\n",
      "165    300.0\n",
      "166    310.2\n",
      "167    320.4\n",
      "168    330.4\n",
      "Name: Calories, Length: 169, dtype: float64\n"
     ]
    }
   ],
   "source": [
    "datafm=pd.read_csv(\"data.csv\")\n",
    "# print(datafm)\n",
    "datafm.index.name=\"index\"\n",
    "# print(datafm[datafm[\"Calories\"]<300])\n",
    "# print(datafm[datafm.index==60])\n",
    "# datafm2=datafm.dropna(inplace=True)\n",
    "\n",
    "print(datafm[\"Calories\"].fillna(-1))\n",
    "f=open(\"change.txt\",\"w\")\n",
    "# print(f.read())\n",
    "for i in datafm[\"Calories\"].fillna(-1):\n",
    "    f.write(str(i)+\"\\n\")\n",
    "    # print(i)\n",
    "f.close()\n",
    "# print(f)\n"
   ]
  },
  {
   "cell_type": "code",
   "execution_count": null,
   "metadata": {},
   "outputs": [
    {
     "name": "stdout",
     "output_type": "stream",
     "text": [
      "None\n",
      "       Duration  Pulse  Maxpulse  Calories\n",
      "index                                     \n",
      "17           45     90       112      -1.0\n",
      "27           60    103       132      -1.0\n",
      "91           45    107       137      -1.0\n",
      "118          60    105       125      -1.0\n",
      "141          60     97       127      -1.0\n",
      "       Duration  Pulse  Maxpulse  Calories\n",
      "index                                     \n",
      "17           45     90       112      -1.0\n",
      "27           60    103       132      -1.0\n",
      "91           45    107       137      -1.0\n",
      "118          60    105       125      -1.0\n",
      "141          60     97       127      -1.0\n"
     ]
    }
   ],
   "source": [
    "print(datafm[\"Calories\"].fillna(-1,inplace=True))\n",
    "newdf=datafm[datafm[\"Calories\"]==-1]\n",
    "print(newdf)\n",
    "# newdf[\"temp\"]=[8,7,4,5,9]\n",
    "print(newdf)"
   ]
  },
  {
   "cell_type": "code",
   "execution_count": null,
   "metadata": {},
   "outputs": [
    {
     "name": "stdout",
     "output_type": "stream",
     "text": [
      "       Duration  Pulse  Maxpulse  Calories\n",
      "index                                     \n",
      "17           45     90       112      -1.0\n",
      "27           60    103       132      -1.0\n",
      "91           45    107       137      -1.0\n",
      "118          60    105       125      -1.0\n",
      "141          60     97       127      -1.0\n"
     ]
    },
    {
     "data": {
      "image/png": "[encoded data removed]",
      "text/plain": [
       "<Figure size 640x480 with 1 Axes>"
      ]
     },
     "metadata": {},
     "output_type": "display_data"
    }
   ],
   "source": [
    "import matplotlib.pyplot as plt\n",
    "import numpy as np\n",
    "print(newdf)\n",
    "y=np.array(newdf[\"Duration\"])\n",
    "x=np.array(newdf[\"Pulse\"])\n",
    "plt.plot(x,y,'o:b')\n",
    "plt.show()"
   ]
  },
  {
   "cell_type": "code",
   "execution_count": null,
   "metadata": {},
   "outputs": [
    {
     "name": "stdout",
     "output_type": "stream",
     "text": [
      "       Duration  Pulse  Maxpulse  Calories\n",
      "index                                     \n",
      "0            60    110       130     409.1\n",
      "1            60    117       145     479.0\n",
      "2            60    103       135     340.0\n",
      "3            45    109       175     282.4\n",
      "4            45    117       148     406.0\n",
      "...         ...    ...       ...       ...\n",
      "164          60    105       140     290.8\n",
      "165          60    110       145     300.0\n",
      "166          60    115       145     310.2\n",
      "167          75    120       150     320.4\n",
      "168          75    125       150     330.4\n",
      "\n",
      "[169 rows x 4 columns]\n",
      "(15,        Duration  Pulse  Maxpulse  Calories\n",
      "index                                     \n",
      "93           15     80       100      50.5\n",
      "112          15    124       139     124.2)\n",
      "(20,        Duration  Pulse  Maxpulse  Calories\n",
      "index                                     \n",
      "58           20    153       172     226.4\n",
      "64           20    110       130     131.4\n",
      "68           20    106       136     110.4\n",
      "89           20     83       107      50.3\n",
      "94           20    150       171     127.4\n",
      "95           20    151       168     229.4\n",
      "100          20     95       112      77.7\n",
      "135          20    136       156     189.0\n",
      "139          20    141       162     222.4)\n",
      "(25,        Duration  Pulse  Maxpulse  Calories\n",
      "index                                     \n",
      "97           25    152       168     244.2)\n",
      "(30,        Duration  Pulse  Maxpulse  Calories\n",
      "index                                     \n",
      "8            30    109       133     195.1\n",
      "54           30    136       175     238.0\n",
      "80           30    159       182     319.2\n",
      "82           30    103       139     151.1\n",
      "85           30    151       170     300.0\n",
      "92           30     90       107     105.3\n",
      "96           30     95       128     128.2\n",
      "98           30    109       131     188.2\n",
      "104          30     92       108      92.7\n",
      "105          30     93       128     124.0\n",
      "107          30     90       120      86.2\n",
      "120          30    112       137     193.9\n",
      "148          30    103       127     185.0\n",
      "153          30    150       167     275.8\n",
      "159          30     80       120     240.9\n",
      "160          30     85       120     250.4)\n",
      "(45,        Duration  Pulse  Maxpulse  Calories\n",
      "index                                     \n",
      "3            45    109       175     282.4\n",
      "4            45    117       148     406.0\n",
      "7            45    104       134     253.3\n",
      "17           45     90       112      -1.0\n",
      "19           45     97       125     243.0\n",
      "21           45    100       119     282.0\n",
      "23           45    105       132     246.0\n",
      "31           45     90       112     180.1\n",
      "39           45    104       129     266.0\n",
      "40           45     90       112     180.1\n",
      "47           45    111       136     300.0\n",
      "48           45    108       129     298.0\n",
      "57           45    115       144     305.0\n",
      "59           45    123       152     321.0\n",
      "63           45    118       141     341.0\n",
      "74           45    114       146     304.0\n",
      "76           45    105       134     251.0\n",
      "77           45    110       141     300.0\n",
      "81           45    149       169     344.0\n",
      "84           45    100       120     225.3\n",
      "86           45    102       136     234.0\n",
      "88           45    129       103     242.0\n",
      "91           45    107       137      -1.0\n",
      "111          45    107       124     275.0\n",
      "113          45    100       120     225.3\n",
      "121          45    100       120     100.7\n",
      "136          45    117       143     317.7\n",
      "137          45    115       137     318.0\n",
      "138          45    113       138     308.0\n",
      "142          45    100       120     250.4\n",
      "143          45    122       149     335.4\n",
      "145          45    106       126     270.8\n",
      "161          45     90       130     260.4\n",
      "162          45     95       130     270.0\n",
      "163          45    100       140     280.9)\n",
      "(60,        Duration  Pulse  Maxpulse  Calories\n",
      "index                                     \n",
      "0            60    110       130     409.1\n",
      "1            60    117       145     479.0\n",
      "2            60    103       135     340.0\n",
      "5            60    102       127     300.0\n",
      "6            60    110       136     374.0\n",
      "...         ...    ...       ...       ...\n",
      "157          60    100       120     270.4\n",
      "158          60    114       150     382.8\n",
      "164          60    105       140     290.8\n",
      "165          60    110       145     300.0\n",
      "166          60    115       145     310.2\n",
      "\n",
      "[79 rows x 4 columns])\n",
      "(75,        Duration  Pulse  Maxpulse  Calories\n",
      "index                                     \n",
      "167          75    120       150     320.4\n",
      "168          75    125       150     330.4)\n",
      "(80,        Duration  Pulse  Maxpulse  Calories\n",
      "index                                     \n",
      "51           80    123       146     643.1)\n",
      "(90,        Duration  Pulse  Maxpulse  Calories\n",
      "index                                     \n",
      "72           90    100       127     700.0\n",
      "75           90     98       125     563.2\n",
      "99           90     93       124     604.1\n",
      "101          90     90       110     500.0\n",
      "102          90     90       100     500.0\n",
      "103          90     90       100     500.4\n",
      "108          90     90       120     500.3\n",
      "128          90     99       125     466.4)\n",
      "(120,        Duration  Pulse  Maxpulse  Calories\n",
      "index                                     \n",
      "78          120    100       130     500.4\n",
      "83          120    100       130     500.0\n",
      "87          120    100       157    1000.1)\n",
      "(150,        Duration  Pulse  Maxpulse  Calories\n",
      "index                                     \n",
      "66          150    105       135     873.4\n",
      "67          150    107       130     816.0\n",
      "70          150     97       129    1115.0\n",
      "73          150     97       127     953.2)\n",
      "(160,        Duration  Pulse  Maxpulse  Calories\n",
      "index                                     \n",
      "61          160    110       137    1034.4\n",
      "62          160    109       135     853.0)\n",
      "(180,        Duration  Pulse  Maxpulse  Calories\n",
      "index                                     \n",
      "65          180     90       130     800.4\n",
      "90          180    101       127     600.1\n",
      "106         180     90       120     800.3)\n",
      "(210,        Duration  Pulse  Maxpulse  Calories\n",
      "index                                     \n",
      "60          210    108       160    1376.0\n",
      "109         210    137       184    1860.4)\n",
      "(270,        Duration  Pulse  Maxpulse  Calories\n",
      "index                                     \n",
      "79          270    100       131    1729.0)\n",
      "(300,        Duration  Pulse  Maxpulse  Calories\n",
      "index                                     \n",
      "69          300    108       143    1500.2)\n",
      "{15: [93, 112], 20: [58, 64, 68, 89, 94, 95, 100, 135, 139], 25: [97], 30: [8, 54, 80, 82, 85, 92, 96, 98, 104, 105, 107, 120, 148, 153, 159, 160], 45: [3, 4, 7, 17, 19, 21, 23, 31, 39, 40, 47, 48, 57, 59, 63, 74, 76, 77, 81, 84, 86, 88, 91, 111, 113, 121, 136, 137, 138, 142, 143, 145, 161, 162, 163], 60: [0, 1, 2, 5, 6, 9, 10, 11, 12, 13, 14, 15, 16, 18, 20, 22, 24, 25, 26, 27, 28, 29, 30, 32, 33, 34, 35, 36, 37, 38, 41, 42, 43, 44, 45, 46, 49, 50, 52, 53, 55, 56, 71, 110, 114, 115, 116, 117, 118, 119, 122, 123, 124, 125, 126, 127, 129, 130, 131, 132, 133, 134, 140, 141, 144, 146, 147, 149, 150, 151, 152, 154, 155, 156, 157, 158, 164, 165, 166], 75: [167, 168], 80: [51], 90: [72, 75, 99, 101, 102, 103, 108, 128], 120: [78, 83, 87], 150: [66, 67, 70, 73], 160: [61, 62], 180: [65, 90, 106], 210: [60, 109], 270: [79], 300: [69]}\n"
     ]
    }
   ],
   "source": [
    "print(datafm)\n",
    "for i in datafm.groupby('Duration'):\n",
    "    print(i)\n",
    "print(datafm.groupby('Duration').groups)"
   ]
  },
  {
   "cell_type": "code",
   "execution_count": null,
   "metadata": {},
   "outputs": [
    {
     "name": "stdout",
     "output_type": "stream",
     "text": [
      "   a  b  c\n",
      "0  1  5  4\n",
      "1  2  6  3\n",
      "2  3  7  2\n",
      "3  4  8  1\n",
      "   q  c  e\n",
      "0  2  4  3\n",
      "1  3  3  2\n",
      "2  1  2  4\n",
      "3  4  1  1\n",
      "   a  b  c  q  e\n",
      "0  1  5  4  2  3\n",
      "1  2  6  3  3  2\n",
      "2  3  7  2  1  4\n",
      "3  4  8  1  4  1\n"
     ]
    }
   ],
   "source": [
    "ac={\n",
    "    \"a\":[1,2,3,4],\n",
    "    \"b\":[5,6,7,8],\n",
    "    \"c\":[4,3,2,1]\n",
    "}\n",
    "bc={\n",
    "    \"q\":[2,3,1,4],\n",
    "    \"c\":[4,3,2,1],\n",
    "    \"e\":[3,2,4,1]\n",
    "}\n",
    "f1=pd.DataFrame(ac)\n",
    "f2=pd.DataFrame(bc)\n",
    "print(f1)\n",
    "print(f2)\n",
    "print(f1.merge(f2))\n",
    "# print(f1.join(f2))\n"
   ]
  }
 ],
 "metadata": {
  "kernelspec": {
   "display_name": "Python 3 (ipykernel)",
   "language": "python",
   "name": "python3"
  },
  "language_info": {
   "codemirror_mode": {
    "name": "ipython",
    "version": 3
   },
   "file_extension": ".py",
   "mimetype": "text/x-python",
   "name": "python",
   "nbconvert_exporter": "python",
   "pygments_lexer": "ipython3",
   "version": "3.11.4"
  }
 },
 "nbformat": 4,
 "nbformat_minor": 2
}
