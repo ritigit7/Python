{
 "cells": [
  {
   "cell_type": "code",
   "execution_count": 158,
   "metadata": {},
   "outputs": [
    {
     "data": {
      "text/plain": [
       "(           Date    Open\n",
       " 0     20.000103  694.00\n",
       " 1     20.000104  714.00\n",
       " 2     20.000105  716.25\n",
       " 3     20.000106  741.00\n",
       " 4     20.000107  832.40\n",
       " ...         ...     ...\n",
       " 5301  20.210426  205.80\n",
       " 5302  20.210427  205.30\n",
       " 5303  20.210428  206.00\n",
       " 5304  20.210429  207.10\n",
       " 5305  20.210430  203.90\n",
       " \n",
       " [5306 rows x 2 columns],\n",
       " 0       708.50\n",
       " 1       712.35\n",
       " 2       726.20\n",
       " 3       784.30\n",
       " 4       847.05\n",
       "          ...  \n",
       " 5301    205.30\n",
       " 5302    205.40\n",
       " 5303    205.50\n",
       " 5304    204.30\n",
       " 5305    202.60\n",
       " Name: Close, Length: 5306, dtype: float64)"
      ]
     },
     "execution_count": 158,
     "metadata": {},
     "output_type": "execute_result"
    }
   ],
   "source": [
    "import pandas as pd\n",
    "import numpy as np\n",
    "\n",
    "df=pd.read_csv(\"ITC_1.csv\")\n",
    "\n",
    "\n",
    "df['Date']=df['Date']*0.000001\n",
    "Prev_Close=df['Prev Close']\n",
    "Open=df['Open']\n",
    "High=df['High']\n",
    "Low=df['Low']\n",
    "Last=df['Last']\n",
    "Close=df['Close']\n",
    "\n",
    "X=df[['Date','Open']]\n",
    "y=df['Close']\n",
    "\n",
    "X,y"
   ]
  },
  {
   "cell_type": "code",
   "execution_count": 159,
   "metadata": {},
   "outputs": [],
   "source": [
    "# from sklearn.preprocessing import MinMaxScaler\n",
    "\n",
    "# # scaler = MinMaxScaler()\n",
    "# Date= Date*0.000001-20\n",
    "# # Similarly scale b_data, c_data, and d_data\n",
    "# Date"
   ]
  },
  {
   "cell_type": "code",
   "execution_count": 160,
   "metadata": {},
   "outputs": [
    {
     "data": {
      "text/plain": [
       "(           Date     Open\n",
       " 1836  20.070427   162.00\n",
       " 3608  20.140616   334.25\n",
       " 5159  20.200925   168.90\n",
       " 69    20.000412   725.00\n",
       " 2348  20.090529   184.80\n",
       " ...         ...      ...\n",
       " 1188  20.040923  1163.00\n",
       " 5151  20.200915   184.00\n",
       " 3823  20.150506   326.00\n",
       " 1512  20.060106   146.00\n",
       " 2744  20.101228   169.75\n",
       " \n",
       " [4244 rows x 2 columns],\n",
       " 1836     160.65\n",
       " 3608     336.20\n",
       " 5159     170.75\n",
       " 69       721.85\n",
       " 2348     183.65\n",
       "          ...   \n",
       " 1188    1160.25\n",
       " 5151     181.80\n",
       " 3823     318.35\n",
       " 1512     145.45\n",
       " 2744     171.20\n",
       " Name: Close, Length: 4244, dtype: float64)"
      ]
     },
     "execution_count": 160,
     "metadata": {},
     "output_type": "execute_result"
    }
   ],
   "source": [
    "from sklearn.model_selection import train_test_split\n",
    "\n",
    "X_train, X_test, y_train, y_test = train_test_split(X,y ,test_size=0.2)  # 20% for testing\n",
    "X_train,y_train\n",
    "\n",
    "# from sklearn.preprocessing import StandardScaler\n",
    "# scaler=StandardScaler()\n",
    "\n",
    "# X_train_scaled=scaler.fit_transform(X_train)\n",
    "# X_test_scaled=scaler.fit_transform(X_test)\n",
    "\n",
    "# X_train_scaled,X_test_scaled\n"
   ]
  },
  {
   "cell_type": "code",
   "execution_count": 161,
   "metadata": {},
   "outputs": [
    {
     "name": "stdout",
     "output_type": "stream",
     "text": [
      "Model: \"sequential_23\"\n",
      "_________________________________________________________________\n",
      " Layer (type)                Output Shape              Param #   \n",
      "=================================================================\n",
      " dense_74 (Dense)            (None, 10)                30        \n",
      "                                                                 \n",
      " dense_75 (Dense)            (None, 5)                 55        \n",
      "                                                                 \n",
      " dense_76 (Dense)            (None, 1)                 6         \n",
      "                                                                 \n",
      "=================================================================\n",
      "Total params: 91 (364.00 Byte)\n",
      "Trainable params: 91 (364.00 Byte)\n",
      "Non-trainable params: 0 (0.00 Byte)\n",
      "_________________________________________________________________\n"
     ]
    }
   ],
   "source": [
    "import tensorflow \n",
    "from tensorflow import keras\n",
    "from keras import Sequential\n",
    "from keras.layers import Dense\n",
    "import numpy as np\n",
    "\n",
    "\n",
    "# model=Sequential()\n",
    "# model.add(Dense(4,activation='relu',input_dim=2))\n",
    "# model.add(Dense(2,activation='relu'))\n",
    "# model.add(Dense(1))\n",
    "\n",
    "\n",
    "# model=Sequential()\n",
    "\n",
    "# model.add(Dense(100,input_dim=2,activation=\"linear\"))\n",
    "# model.add(Dense(50,input_dim=2,activation=\"linear\"))\n",
    "# model.add(Dense(1,activation=\"sigmoid\"))\n",
    "\n",
    "# model.compile(loss='binary_crossentropy',optimizer='adam',metrics=['accuracy'])\n",
    "# model.fit(X_train,y_train,validation_split=0.2,epochs=200)\n",
    "\n",
    "# model.summary()\n",
    "\n",
    "import tensorflow\n",
    "from tensorflow import keras\n",
    "from keras import Sequential\n",
    "from keras.layers import Dense\n",
    "\n",
    "model=Sequential()\n",
    "#input dimention=11\n",
    "model.add(Dense(10,activation=\"relu\",input_dim=2))\n",
    "model.add(Dense(5,activation=\"relu\"))\n",
    "model.add(Dense(1,activation=\"relu\"))\n",
    "\n",
    "model.summary()"
   ]
  },
  {
   "cell_type": "code",
   "execution_count": 164,
   "metadata": {},
   "outputs": [
    {
     "name": "stdout",
     "output_type": "stream",
     "text": [
      "Epoch 1/10\n",
      "133/133 [==============================] - 1s 2ms/step - loss: 137.0512 - accuracy: 0.0000e+00\n",
      "Epoch 2/10\n",
      "133/133 [==============================] - 0s 2ms/step - loss: 130.9582 - accuracy: 0.0000e+00\n",
      "Epoch 3/10\n",
      "133/133 [==============================] - 0s 2ms/step - loss: 130.1504 - accuracy: 0.0000e+00\n",
      "Epoch 4/10\n",
      "133/133 [==============================] - 0s 2ms/step - loss: 133.7515 - accuracy: 0.0000e+00\n",
      "Epoch 5/10\n",
      "133/133 [==============================] - 0s 2ms/step - loss: 130.0497 - accuracy: 0.0000e+00\n",
      "Epoch 6/10\n",
      "133/133 [==============================] - 0s 2ms/step - loss: 131.4144 - accuracy: 0.0000e+00\n",
      "Epoch 7/10\n",
      "133/133 [==============================] - 0s 2ms/step - loss: 136.5963 - accuracy: 0.0000e+00\n",
      "Epoch 8/10\n",
      "133/133 [==============================] - 0s 2ms/step - loss: 130.4458 - accuracy: 0.0000e+00\n",
      "Epoch 9/10\n",
      "133/133 [==============================] - 0s 2ms/step - loss: 128.4476 - accuracy: 0.0000e+00\n",
      "Epoch 10/10\n",
      "133/133 [==============================] - 0s 2ms/step - loss: 132.6471 - accuracy: 0.0000e+00\n"
     ]
    }
   ],
   "source": [
    "# model.compile(optimizer='adam',metrics=['accuracy'],loss='mse')\n",
    "# history=model.fit(X_train,y_train,epochs=300,validation_split=0.2)\n",
    "\n",
    "\n",
    "optimizer=keras.optimizers.Adam(learning_rate=0.001)\n",
    "model.compile(loss='mse',optimizer=optimizer,metrics=['accuracy'])\n",
    "\n",
    "history = model.fit(X_train,y_train, epochs=10)"
   ]
  },
  {
   "cell_type": "code",
   "execution_count": 163,
   "metadata": {},
   "outputs": [
    {
     "data": {
      "text/plain": [
       "[<matplotlib.lines.Line2D at 0x2040bb51210>]"
      ]
     },
     "execution_count": 163,
     "metadata": {},
     "output_type": "execute_result"
    },
    {
     "data": {
      "image/png": "[encoded data removed]",
      "text/plain": [
       "<Figure size 640x480 with 1 Axes>"
      ]
     },
     "metadata": {},
     "output_type": "display_data"
    }
   ],
   "source": [
    "import matplotlib.pyplot as plt\n",
    "\n",
    "plt.plot(history.history['loss'])\n",
    "# plt.plot(history.history['accuracy'])"
   ]
  }
 ],
 "metadata": {
  "kernelspec": {
   "display_name": ".venv",
   "language": "python",
   "name": "python3"
  },
  "language_info": {
   "codemirror_mode": {
    "name": "ipython",
    "version": 3
   },
   "file_extension": ".py",
   "mimetype": "text/x-python",
   "name": "python",
   "nbconvert_exporter": "python",
   "pygments_lexer": "ipython3",
   "version": "3.11.4"
  }
 },
 "nbformat": 4,
 "nbformat_minor": 2
}
