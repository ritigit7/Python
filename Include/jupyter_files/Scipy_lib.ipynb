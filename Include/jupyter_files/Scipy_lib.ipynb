{
 "cells": [
  {
   "cell_type": "code",
   "execution_count": 2,
   "metadata": {},
   "outputs": [
    {
     "name": "stdout",
     "output_type": "stream",
     "text": [
      "[-1.]\n"
     ]
    }
   ],
   "source": [
    "import math\n",
    "# from scipy import constants\n",
    "import scipy.optimize as sp\n",
    "import numpy as np\n",
    "print(np.roots([1,math.sin(math.radians(90))]))\n",
    "# print(math.sin(math.radians(90)))\n",
    "# print(1/sp.constants.degree)\n",
    "# print(sp.root(1))"
   ]
  }
 ],
 "metadata": {
  "kernelspec": {
   "display_name": "Python 3 (ipykernel)",
   "language": "python",
   "name": "python3"
  }
 },
 "nbformat": 4,
 "nbformat_minor": 2
}
