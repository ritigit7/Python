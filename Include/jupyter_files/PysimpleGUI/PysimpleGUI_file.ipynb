{
 "cells": [
  {
   "cell_type": "code",
   "execution_count": 1,
   "metadata": {},
   "outputs": [],
   "source": [
    "import PySimpleGUI as sg\n",
    "\n",
    "layout=[[sg.Text(text=\"Hello world\",justification='center')],\n",
    "        [sg.Button('click')]]\n",
    "window=sg.Window(\"Trial\",layout,size=(200,100))\n",
    "while True:\n",
    "    event,value=window.read()\n",
    "    # print(event,value)\n",
    "    if event in (None,'Exit'):\n",
    "        break\n",
    "    if event=='click':\n",
    "        sg.popup('ok')\n",
    "        sg.popup_get_file('Select a file',  title=\"File selector\")\n",
    "        print(\"ok\")\n",
    "window.close()"
   ]
  },
  {
   "cell_type": "code",
   "execution_count": 1,
   "metadata": {},
   "outputs": [
    {
     "name": "stdout",
     "output_type": "stream",
     "text": [
      "{'_id': ObjectId('645b8bdb0a541567ad07501c'), 'name': 'Ritik', 'branch': 'cs'}\n",
      "{'_id': ObjectId('645cda7b2380dafd56d02be0'), 'name': 'Rishi'}\n",
      "{'_id': ObjectId('646f3ef31fee24ae0161f091')}\n",
      "{'_id': ObjectId('646f3f2e1fee24ae0161f092'), 'item': 'document'}\n",
      "{'_id': ObjectId('646f3fff1fee24ae0161f093'), 'item': 'docs', 'qty': 100, 'tags': ['docs'], 'size': {'h': 2, 'w': 8, 'uom': 'cm'}, 'status': 'K'}\n",
      "{'_id': ObjectId('646f43421fee24ae0161f094'), 'item': 'i1', 'qnt': 180, 'arr': ['dklsfjl'], 'obj': {'h': 3, 'l': 5}}\n",
      "{'_id': ObjectId('646f43421fee24ae0161f095'), 'item': 'i2', 'qnt': 510, 'arr': ['fdvfjl'], 'obj': {'h': 4, 'l': 9}}\n",
      "{'_id': ObjectId('646f43421fee24ae0161f096'), 'item': 'i3', 'qnt': 784, 'arr': ['sldffsfjl'], 'obj': {'h': 1, 'l': 7}}\n",
      "{'_id': ObjectId('6471c6bb7cd2f41f9c5ccf5d'), 'name': 'Disha', 'number': 1}\n",
      "{'_id': ObjectId('6471d9780e6424c219a99c2d'), 'item': 'canvas', 'qty': 100, 'size': {'h': 28, 'w': 35.5, 'uom': 'cm'}, 'status': 'K'}\n",
      "{'_id': ObjectId('6471d9780e6424c219a99c2e'), 'item': 'journal', 'qty': 25, 'size': {'h': 14, 'w': 21, 'uom': 'cm'}, 'status': 'A'}\n",
      "{'_id': ObjectId('6471d9780e6424c219a99c2f'), 'item': 'mat', 'qty': 85, 'size': {'h': 27.9, 'w': 35.5, 'uom': 'cm'}, 'status': 'A'}\n",
      "{'_id': ObjectId('6471d9780e6424c219a99c30'), 'item': 'mousepad', 'qty': 25, 'size': {'h': 19, 'w': 22.85, 'uom': 'cm'}, 'status': 'P'}\n",
      "{'_id': ObjectId('6471d9780e6424c219a99c31'), 'item': 'notebook', 'qty': 50, 'size': {'h': 8.5, 'w': 11, 'uom': 'in'}, 'status': 'P'}\n",
      "{'_id': ObjectId('6471d9780e6424c219a99c32'), 'item': 'paper', 'qty': 100, 'size': {'h': 8.5, 'w': 11, 'uom': 'cm'}, 'status': 'K', 'lastModified': datetime.datetime(2023, 5, 27, 10, 21, 19, 935000)}\n",
      "{'_id': ObjectId('6471d9780e6424c219a99c33'), 'item': 'planner', 'qty': 75, 'size': {'h': 22.85, 'w': 30, 'uom': 'cm'}, 'status': 'D'}\n",
      "{'_id': ObjectId('6471d9780e6424c219a99c34'), 'item': 'postcard', 'qty': 45, 'size': {'h': 10, 'w': 15.25, 'uom': 'cm'}, 'status': 'A'}\n",
      "{'_id': ObjectId('6471d9780e6424c219a99c36'), 'item': 'sketch pad', 'qty': 98, 'size': {'h': 15, 'w': 30.5, 'uom': 'cm'}, 'status': 'D', 'lastModified': datetime.datetime(2023, 5, 27, 10, 27, 24, 58000), 'number': 2}\n",
      "{'_id': ObjectId('64c7f0c842581a64f04493a4'), 'name': 'John Doe', 'age': 30}\n",
      "{'_id': ObjectId('64c7f139f9ce761ad2b90992'), 'name': 'Jo Doe', 'age': 30}\n",
      "{'_id': ObjectId('64c7f15b636370fb269a549e'), 'name': 'Jo Doe', 'age': 30}\n"
     ]
    }
   ],
   "source": [
    "from pymongo import MongoClient\n",
    "\n",
    "client = MongoClient()\n",
    "db = client.trial\n",
    "collection = db.data\n",
    "cursor = collection.find()\n",
    "for record in cursor:\n",
    "    print(record)"
   ]
  },
  {
   "cell_type": "code",
   "execution_count": 1,
   "metadata": {},
   "outputs": [
    {
     "name": "stdout",
     "output_type": "stream",
     "text": [
      "OK {'Name': 'abc', 'Enrollment': '85', 'College_Year': '4'}\n",
      "all {'Name': '', 'Enrollment': '', 'College_Year': ''}\n",
      "{'_id': ObjectId('65b6038c0914ec87d24c5d1b'), 'Name': 'ritik', 'Enrollment': 77, 'College_Year': 3}{'_id': ObjectId('65b606378a7aa47986358c07'), 'Name': 'rishi', 'Enrollment': 11, 'College_Year': 1}{'_id': ObjectId('65b60679691c0680e973c2e0'), 'Name': 'didi', 'Enrollment': 10, 'College_Year': 4}{'_id': ObjectId('65b60cce2c0c67f85bf3c3cf'), 'Name': 'abc', 'Enrollment': 85, 'College_Year': 4}\n",
      "search {'Name': '', 'Enrollment': '', 'College_Year': ''}\n"
     ]
    }
   ],
   "source": [
    "import PySimpleGUI as sg\n",
    "from pymongo import MongoClient\n",
    "\n",
    "#connect mongodb database \n",
    "client = MongoClient()\n",
    "db = client.PySimpleGUI\n",
    "collection = db.GUI_collection_1\n",
    "\n",
    "# windos layout\n",
    "layout=[\n",
    "    [sg.Text(text=\"Name:\",size=(15,1)),sg.Input(key='Name',expand_x=True)],\n",
    "    [sg.Text(text=\"Enrollment:\",size=(15,1)),sg.Input(key='Enrollment',expand_x=True)],\n",
    "    [sg.Text(text=\"College Year:\",size=(15,1)),sg.Input(key='College_Year',expand_x=True)],\n",
    "    [sg.OK(),sg.Exit(),sg.Button('all'),sg.Button('search')]\n",
    "         ]\n",
    "\n",
    "window=sg.Window(\"Student Data\",layout,size=(400,130))\n",
    "\n",
    "while True:\n",
    "    # exit after click exit button\n",
    "    event,value=window.read()\n",
    "    if event in (None,'Exit'):\n",
    "        break\n",
    "    print(event,value)\n",
    "\n",
    "\n",
    "    # print all data from database in popup view\n",
    "    if event=='all':\n",
    "        all_data=collection.find()\n",
    "        fl=open('D:\\python programs\\All\\.venv\\Include\\jupyter_files\\PysimpleGUI\\PysimpleGUI_student_data.txt','r+')\n",
    "        for i in all_data:\n",
    "            fl.write(str(i))\n",
    "        fl.close()\n",
    "        fl=open('D:\\python programs\\All\\.venv\\Include\\jupyter_files\\PysimpleGUI\\PysimpleGUI_student_data.txt')\n",
    "        tx=fl.read()\n",
    "        print(tx)\n",
    "        sg.popup(tx)\n",
    "        fl.close()\n",
    "\n",
    "    # making dictnoary of insert data and add into database\n",
    "    doc={\n",
    "        'Name':value['Name'],\n",
    "        'Enrollment':int(value['Enrollment']) if value['Enrollment'] != '' else None,\n",
    "        'College_Year':int(value['College_Year']) if value['Enrollment'] != '' else None\n",
    "        }\n",
    "    \n",
    "    if value['Name']!='':\n",
    "        collection.insert_one(doc)\n",
    "\n",
    "\n",
    "    #perform searchin from database \n",
    "    if event=='search':\n",
    "        srchN=sg.popup_get_text('Name or Enrollment or College Year:', title=\"Textbox\")\n",
    "        find_data1=collection.find_one({'Name':srchN})\n",
    "        sg.popup(find_data1)\n",
    "        # print(srch)\n",
    "        # if type(srchN)==str:\n",
    "        #     find_data1=collection.find_one({'Name':srchN})\n",
    "        #     sg.popup(find_data1)\n",
    "        # else:\n",
    "        #     if collection.find_one({'Enrollment':int(srchN)})==None:\n",
    "        #         sg.popup(find_data1)\n",
    "\n",
    "        # print(find_data)\n",
    "\n",
    "\n",
    "    window['Name'].update('')\n",
    "    window['Enrollment'].update('')\n",
    "    window['College_Year'].update('')\n",
    "\n",
    "window.close()"
   ]
  }
 ],
 "metadata": {
  "kernelspec": {
   "display_name": ".venv",
   "language": "python",
   "name": "python3"
  },
  "language_info": {
   "codemirror_mode": {
    "name": "ipython",
    "version": 3
   },
   "file_extension": ".py",
   "mimetype": "text/x-python",
   "name": "python",
   "nbconvert_exporter": "python",
   "pygments_lexer": "ipython3",
   "version": "3.11.4"
  }
 },
 "nbformat": 4,
 "nbformat_minor": 2
}
