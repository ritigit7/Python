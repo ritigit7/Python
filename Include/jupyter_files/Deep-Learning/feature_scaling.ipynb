{
  "cells": [
    {
      "cell_type": "code",
      "execution_count": 2,
      "metadata": {
        "id": "hScZJyw76MPF"
      },
      "outputs": [],
      "source": [
        "import numpy as np\n",
        "import pandas as pd"
      ]
    },
    {
      "cell_type": "code",
      "execution_count": 3,
      "metadata": {
        "id": "FsS0g0hH61Lk"
      },
      "outputs": [],
      "source": [
        "df = pd.read_csv('Social_Network_Ads.csv')"
      ]
    },
    {
      "cell_type": "code",
      "execution_count": 4,
      "metadata": {
        "colab": {
          "base_uri": "https://localhost:8080/",
          "height": 206
        },
        "id": "jMpQva9366fP",
        "outputId": "2dd52c89-561b-4762-ca09-24625c74393c"
      },
      "outputs": [
        {
          "data": {
            "text/html": [
              "<div>\n",
              "<style scoped>\n",
              "    .dataframe tbody tr th:only-of-type {\n",
              "        vertical-align: middle;\n",
              "    }\n",
              "\n",
              "    .dataframe tbody tr th {\n",
              "        vertical-align: top;\n",
              "    }\n",
              "\n",
              "    .dataframe thead th {\n",
              "        text-align: right;\n",
              "    }\n",
              "</style>\n",
              "<table border=\"1\" class=\"dataframe\">\n",
              "  <thead>\n",
              "    <tr style=\"text-align: right;\">\n",
              "      <th></th>\n",
              "      <th>Age</th>\n",
              "      <th>EstimatedSalary</th>\n",
              "      <th>Purchased</th>\n",
              "    </tr>\n",
              "  </thead>\n",
              "  <tbody>\n",
              "    <tr>\n",
              "      <th>0</th>\n",
              "      <td>19</td>\n",
              "      <td>19000</td>\n",
              "      <td>0</td>\n",
              "    </tr>\n",
              "    <tr>\n",
              "      <th>1</th>\n",
              "      <td>35</td>\n",
              "      <td>20000</td>\n",
              "      <td>0</td>\n",
              "    </tr>\n",
              "    <tr>\n",
              "      <th>2</th>\n",
              "      <td>26</td>\n",
              "      <td>43000</td>\n",
              "      <td>0</td>\n",
              "    </tr>\n",
              "    <tr>\n",
              "      <th>3</th>\n",
              "      <td>27</td>\n",
              "      <td>57000</td>\n",
              "      <td>0</td>\n",
              "    </tr>\n",
              "    <tr>\n",
              "      <th>4</th>\n",
              "      <td>19</td>\n",
              "      <td>76000</td>\n",
              "      <td>0</td>\n",
              "    </tr>\n",
              "    <tr>\n",
              "      <th>...</th>\n",
              "      <td>...</td>\n",
              "      <td>...</td>\n",
              "      <td>...</td>\n",
              "    </tr>\n",
              "    <tr>\n",
              "      <th>395</th>\n",
              "      <td>46</td>\n",
              "      <td>41000</td>\n",
              "      <td>1</td>\n",
              "    </tr>\n",
              "    <tr>\n",
              "      <th>396</th>\n",
              "      <td>51</td>\n",
              "      <td>23000</td>\n",
              "      <td>1</td>\n",
              "    </tr>\n",
              "    <tr>\n",
              "      <th>397</th>\n",
              "      <td>50</td>\n",
              "      <td>20000</td>\n",
              "      <td>1</td>\n",
              "    </tr>\n",
              "    <tr>\n",
              "      <th>398</th>\n",
              "      <td>36</td>\n",
              "      <td>33000</td>\n",
              "      <td>0</td>\n",
              "    </tr>\n",
              "    <tr>\n",
              "      <th>399</th>\n",
              "      <td>49</td>\n",
              "      <td>36000</td>\n",
              "      <td>1</td>\n",
              "    </tr>\n",
              "  </tbody>\n",
              "</table>\n",
              "<p>400 rows × 3 columns</p>\n",
              "</div>"
            ],
            "text/plain": [
              "     Age  EstimatedSalary  Purchased\n",
              "0     19            19000          0\n",
              "1     35            20000          0\n",
              "2     26            43000          0\n",
              "3     27            57000          0\n",
              "4     19            76000          0\n",
              "..   ...              ...        ...\n",
              "395   46            41000          1\n",
              "396   51            23000          1\n",
              "397   50            20000          1\n",
              "398   36            33000          0\n",
              "399   49            36000          1\n",
              "\n",
              "[400 rows x 3 columns]"
            ]
          },
          "execution_count": 4,
          "metadata": {},
          "output_type": "execute_result"
        }
      ],
      "source": [
        "df = df.iloc[:,2:]\n",
        "df"
      ]
    },
    {
      "cell_type": "code",
      "execution_count": 5,
      "metadata": {
        "id": "ohok4R2Y69um"
      },
      "outputs": [],
      "source": [
        "import seaborn as sns"
      ]
    },
    {
      "cell_type": "code",
      "execution_count": 8,
      "metadata": {
        "colab": {
          "base_uri": "https://localhost:8080/",
          "height": 352
        },
        "id": "ZnBaOdwl7U2y",
        "outputId": "da6e771b-e971-4aeb-e73d-869f8a29d0ca"
      },
      "outputs": [
        {
          "data": {
            "text/plain": [
              "<Axes: xlabel='Age', ylabel='EstimatedSalary'>"
            ]
          },
          "execution_count": 8,
          "metadata": {},
          "output_type": "execute_result"
        },
        {
          "data": {
            "image/png": "[encoded data removed]",
            "text/plain": [
              "<Figure size 640x480 with 1 Axes>"
            ]
          },
          "metadata": {},
          "output_type": "display_data"
        }
      ],
      "source": [
        "sns.scatterplot(x=df.iloc[:,0],y=df.iloc[:,1])"
      ]
    },
    {
      "cell_type": "code",
      "execution_count": 9,
      "metadata": {
        "id": "z6bzi-427cKi"
      },
      "outputs": [],
      "source": [
        "X = df.iloc[:,0:2]\n",
        "y = df.iloc[:,-1]"
      ]
    },
    {
      "cell_type": "code",
      "execution_count": 10,
      "metadata": {
        "id": "YSPIQzY97i_C"
      },
      "outputs": [],
      "source": [
        "from sklearn.model_selection import train_test_split\n",
        "X_train,X_test,y_train,y_test = train_test_split(X,y,test_size=0.2,random_state=2)"
      ]
    },
    {
      "cell_type": "code",
      "execution_count": 11,
      "metadata": {
        "id": "Y32nU_KD7udn"
      },
      "outputs": [
        {
          "name": "stdout",
          "output_type": "stream",
          "text": [
            "WARNING:tensorflow:From d:\\python programs\\All\\.venv\\Lib\\site-packages\\keras\\src\\losses.py:2976: The name tf.losses.sparse_softmax_cross_entropy is deprecated. Please use tf.compat.v1.losses.sparse_softmax_cross_entropy instead.\n",
            "\n"
          ]
        }
      ],
      "source": [
        "import tensorflow as tf\n",
        "from tensorflow import keras\n",
        "from keras import Sequential\n",
        "from keras.layers import Dense"
      ]
    },
    {
      "cell_type": "code",
      "execution_count": 12,
      "metadata": {
        "id": "KdFmkN8h745Y"
      },
      "outputs": [
        {
          "name": "stdout",
          "output_type": "stream",
          "text": [
            "WARNING:tensorflow:From d:\\python programs\\All\\.venv\\Lib\\site-packages\\keras\\src\\backend.py:873: The name tf.get_default_graph is deprecated. Please use tf.compat.v1.get_default_graph instead.\n",
            "\n"
          ]
        }
      ],
      "source": [
        "model = Sequential()\n",
        "\n",
        "model.add(Dense(128,activation='relu',input_dim=2))\n",
        "model.add(Dense(1,activation='sigmoid'))"
      ]
    },
    {
      "cell_type": "code",
      "execution_count": 13,
      "metadata": {
        "colab": {
          "base_uri": "https://localhost:8080/"
        },
        "id": "F6xRTNvI9GMq",
        "outputId": "fba13e1a-815d-4515-92c8-112d1e6d6cc4"
      },
      "outputs": [
        {
          "name": "stdout",
          "output_type": "stream",
          "text": [
            "Model: \"sequential\"\n",
            "_________________________________________________________________\n",
            " Layer (type)                Output Shape              Param #   \n",
            "=================================================================\n",
            " dense (Dense)               (None, 128)               384       \n",
            "                                                                 \n",
            " dense_1 (Dense)             (None, 1)                 129       \n",
            "                                                                 \n",
            "=================================================================\n",
            "Total params: 513 (2.00 KB)\n",
            "Trainable params: 513 (2.00 KB)\n",
            "Non-trainable params: 0 (0.00 Byte)\n",
            "_________________________________________________________________\n"
          ]
        }
      ],
      "source": [
        "model.summary()"
      ]
    },
    {
      "cell_type": "code",
      "execution_count": 14,
      "metadata": {
        "id": "uvLbTt9S_ByW"
      },
      "outputs": [
        {
          "name": "stdout",
          "output_type": "stream",
          "text": [
            "WARNING:tensorflow:From d:\\python programs\\All\\.venv\\Lib\\site-packages\\keras\\src\\optimizers\\__init__.py:309: The name tf.train.Optimizer is deprecated. Please use tf.compat.v1.train.Optimizer instead.\n",
            "\n"
          ]
        }
      ],
      "source": [
        "model.compile(optimizer='adam',loss='binary_crossentropy',metrics=['accuracy'])"
      ]
    },
    {
      "cell_type": "code",
      "execution_count": 15,
      "metadata": {
        "colab": {
          "base_uri": "https://localhost:8080/"
        },
        "id": "ZaKyBN1B_LTa",
        "outputId": "25217972-baca-43d8-a6ea-ff8a88cd9e73"
      },
      "outputs": [
        {
          "name": "stdout",
          "output_type": "stream",
          "text": [
            "Epoch 1/100\n",
            "WARNING:tensorflow:From d:\\python programs\\All\\.venv\\Lib\\site-packages\\keras\\src\\utils\\tf_utils.py:492: The name tf.ragged.RaggedTensorValue is deprecated. Please use tf.compat.v1.ragged.RaggedTensorValue instead.\n",
            "\n",
            "WARNING:tensorflow:From d:\\python programs\\All\\.venv\\Lib\\site-packages\\keras\\src\\engine\\base_layer_utils.py:384: The name tf.executing_eagerly_outside_functions is deprecated. Please use tf.compat.v1.executing_eagerly_outside_functions instead.\n",
            "\n",
            "10/10 [==============================] - 4s 47ms/step - loss: 2581.9458 - accuracy: 0.6531 - val_loss: 655.8711 - val_accuracy: 0.6000\n",
            "Epoch 2/100\n",
            "10/10 [==============================] - 0s 7ms/step - loss: 459.6181 - accuracy: 0.4281 - val_loss: 113.6705 - val_accuracy: 0.4000\n",
            "Epoch 3/100\n",
            "10/10 [==============================] - 0s 7ms/step - loss: 186.5331 - accuracy: 0.6094 - val_loss: 111.0356 - val_accuracy: 0.4000\n",
            "Epoch 4/100\n",
            "10/10 [==============================] - 0s 5ms/step - loss: 92.7502 - accuracy: 0.4719 - val_loss: 113.1534 - val_accuracy: 0.4000\n",
            "Epoch 5/100\n",
            "10/10 [==============================] - 0s 7ms/step - loss: 76.7897 - accuracy: 0.5031 - val_loss: 7.0460 - val_accuracy: 0.6500\n",
            "Epoch 6/100\n",
            "10/10 [==============================] - 0s 7ms/step - loss: 27.5874 - accuracy: 0.5063 - val_loss: 35.9714 - val_accuracy: 0.6000\n",
            "Epoch 7/100\n",
            "10/10 [==============================] - 0s 5ms/step - loss: 20.7652 - accuracy: 0.4531 - val_loss: 49.2037 - val_accuracy: 0.6000\n",
            "Epoch 8/100\n",
            "10/10 [==============================] - 0s 5ms/step - loss: 64.4186 - accuracy: 0.5469 - val_loss: 139.9734 - val_accuracy: 0.6000\n",
            "Epoch 9/100\n",
            "10/10 [==============================] - 0s 5ms/step - loss: 49.7160 - accuracy: 0.5406 - val_loss: 19.6556 - val_accuracy: 0.4000\n",
            "Epoch 10/100\n",
            "10/10 [==============================] - 0s 5ms/step - loss: 19.2366 - accuracy: 0.5406 - val_loss: 35.9241 - val_accuracy: 0.6000\n",
            "Epoch 11/100\n",
            "10/10 [==============================] - 0s 5ms/step - loss: 50.6509 - accuracy: 0.5719 - val_loss: 2.8689 - val_accuracy: 0.6375\n",
            "Epoch 12/100\n",
            "10/10 [==============================] - 0s 7ms/step - loss: 70.9184 - accuracy: 0.5000 - val_loss: 99.5833 - val_accuracy: 0.4000\n",
            "Epoch 13/100\n",
            "10/10 [==============================] - 0s 5ms/step - loss: 70.9960 - accuracy: 0.5094 - val_loss: 24.3533 - val_accuracy: 0.4000\n",
            "Epoch 14/100\n",
            "10/10 [==============================] - 0s 5ms/step - loss: 56.8615 - accuracy: 0.5406 - val_loss: 34.8436 - val_accuracy: 0.6000\n",
            "Epoch 15/100\n",
            "10/10 [==============================] - 0s 7ms/step - loss: 58.3782 - accuracy: 0.5656 - val_loss: 59.5141 - val_accuracy: 0.4000\n",
            "Epoch 16/100\n",
            "10/10 [==============================] - 0s 9ms/step - loss: 73.3841 - accuracy: 0.4500 - val_loss: 14.2063 - val_accuracy: 0.4000\n",
            "Epoch 17/100\n",
            "10/10 [==============================] - 0s 7ms/step - loss: 35.8284 - accuracy: 0.5188 - val_loss: 9.4106 - val_accuracy: 0.4000\n",
            "Epoch 18/100\n",
            "10/10 [==============================] - 0s 5ms/step - loss: 20.0303 - accuracy: 0.4906 - val_loss: 7.7186 - val_accuracy: 0.4000\n",
            "Epoch 19/100\n",
            "10/10 [==============================] - 0s 5ms/step - loss: 55.7596 - accuracy: 0.4906 - val_loss: 124.9391 - val_accuracy: 0.6000\n",
            "Epoch 20/100\n",
            "10/10 [==============================] - 0s 5ms/step - loss: 54.1420 - accuracy: 0.5656 - val_loss: 26.7863 - val_accuracy: 0.4000\n",
            "Epoch 21/100\n",
            "10/10 [==============================] - 0s 7ms/step - loss: 32.4821 - accuracy: 0.5406 - val_loss: 62.5862 - val_accuracy: 0.6000\n",
            "Epoch 22/100\n",
            "10/10 [==============================] - 0s 7ms/step - loss: 62.2931 - accuracy: 0.5469 - val_loss: 57.8433 - val_accuracy: 0.4000\n",
            "Epoch 23/100\n",
            "10/10 [==============================] - 0s 9ms/step - loss: 56.1131 - accuracy: 0.4969 - val_loss: 9.1207 - val_accuracy: 0.6000\n",
            "Epoch 24/100\n",
            "10/10 [==============================] - 0s 9ms/step - loss: 15.6218 - accuracy: 0.5594 - val_loss: 50.9084 - val_accuracy: 0.6000\n",
            "Epoch 25/100\n",
            "10/10 [==============================] - 0s 6ms/step - loss: 40.8123 - accuracy: 0.4656 - val_loss: 32.3924 - val_accuracy: 0.6000\n",
            "Epoch 26/100\n",
            "10/10 [==============================] - 0s 6ms/step - loss: 43.1810 - accuracy: 0.5969 - val_loss: 58.1926 - val_accuracy: 0.6000\n",
            "Epoch 27/100\n",
            "10/10 [==============================] - 0s 5ms/step - loss: 77.0850 - accuracy: 0.5500 - val_loss: 82.1574 - val_accuracy: 0.6000\n",
            "Epoch 28/100\n",
            "10/10 [==============================] - 0s 6ms/step - loss: 63.2885 - accuracy: 0.5656 - val_loss: 22.7203 - val_accuracy: 0.6000\n",
            "Epoch 29/100\n",
            "10/10 [==============================] - 0s 8ms/step - loss: 40.7960 - accuracy: 0.4719 - val_loss: 13.1009 - val_accuracy: 0.6000\n",
            "Epoch 30/100\n",
            "10/10 [==============================] - 0s 8ms/step - loss: 18.9502 - accuracy: 0.5969 - val_loss: 45.6299 - val_accuracy: 0.6000\n",
            "Epoch 31/100\n",
            "10/10 [==============================] - 0s 7ms/step - loss: 27.1243 - accuracy: 0.5000 - val_loss: 3.7460 - val_accuracy: 0.6625\n",
            "Epoch 32/100\n",
            "10/10 [==============================] - 0s 8ms/step - loss: 64.8191 - accuracy: 0.4656 - val_loss: 32.0524 - val_accuracy: 0.4000\n",
            "Epoch 33/100\n",
            "10/10 [==============================] - 0s 7ms/step - loss: 27.9184 - accuracy: 0.5594 - val_loss: 10.2494 - val_accuracy: 0.4000\n",
            "Epoch 34/100\n",
            "10/10 [==============================] - 0s 7ms/step - loss: 19.7822 - accuracy: 0.5813 - val_loss: 1.1290 - val_accuracy: 0.4625\n",
            "Epoch 35/100\n",
            "10/10 [==============================] - 0s 9ms/step - loss: 38.1267 - accuracy: 0.5125 - val_loss: 17.9844 - val_accuracy: 0.4000\n",
            "Epoch 36/100\n",
            "10/10 [==============================] - 0s 7ms/step - loss: 40.1428 - accuracy: 0.5219 - val_loss: 26.5667 - val_accuracy: 0.4000\n",
            "Epoch 37/100\n",
            "10/10 [==============================] - 0s 8ms/step - loss: 38.6832 - accuracy: 0.5656 - val_loss: 43.3468 - val_accuracy: 0.6000\n",
            "Epoch 38/100\n",
            "10/10 [==============================] - 0s 10ms/step - loss: 38.3997 - accuracy: 0.5094 - val_loss: 9.1692 - val_accuracy: 0.4000\n",
            "Epoch 39/100\n",
            "10/10 [==============================] - 0s 6ms/step - loss: 44.2812 - accuracy: 0.5406 - val_loss: 69.6947 - val_accuracy: 0.6000\n",
            "Epoch 40/100\n",
            "10/10 [==============================] - 0s 8ms/step - loss: 30.6875 - accuracy: 0.5219 - val_loss: 35.3903 - val_accuracy: 0.6000\n",
            "Epoch 41/100\n",
            "10/10 [==============================] - 0s 7ms/step - loss: 18.1967 - accuracy: 0.4906 - val_loss: 8.6560 - val_accuracy: 0.6000\n",
            "Epoch 42/100\n",
            "10/10 [==============================] - 0s 7ms/step - loss: 34.8691 - accuracy: 0.5031 - val_loss: 119.9849 - val_accuracy: 0.6000\n",
            "Epoch 43/100\n",
            "10/10 [==============================] - 0s 6ms/step - loss: 52.1151 - accuracy: 0.6031 - val_loss: 1.0123 - val_accuracy: 0.4625\n",
            "Epoch 44/100\n",
            "10/10 [==============================] - 0s 5ms/step - loss: 30.9730 - accuracy: 0.5063 - val_loss: 8.5697 - val_accuracy: 0.6000\n",
            "Epoch 45/100\n",
            "10/10 [==============================] - 0s 5ms/step - loss: 50.6009 - accuracy: 0.5031 - val_loss: 3.4835 - val_accuracy: 0.6625\n",
            "Epoch 46/100\n",
            "10/10 [==============================] - 0s 6ms/step - loss: 34.1682 - accuracy: 0.5219 - val_loss: 16.6838 - val_accuracy: 0.6000\n",
            "Epoch 47/100\n",
            "10/10 [==============================] - 0s 8ms/step - loss: 23.6038 - accuracy: 0.5875 - val_loss: 38.9344 - val_accuracy: 0.6000\n",
            "Epoch 48/100\n",
            "10/10 [==============================] - 0s 8ms/step - loss: 27.9939 - accuracy: 0.5156 - val_loss: 38.2919 - val_accuracy: 0.4000\n",
            "Epoch 49/100\n",
            "10/10 [==============================] - 0s 9ms/step - loss: 63.1673 - accuracy: 0.5281 - val_loss: 116.5609 - val_accuracy: 0.4000\n",
            "Epoch 50/100\n",
            "10/10 [==============================] - 0s 7ms/step - loss: 41.4406 - accuracy: 0.5094 - val_loss: 25.8912 - val_accuracy: 0.4000\n",
            "Epoch 51/100\n",
            "10/10 [==============================] - 0s 6ms/step - loss: 39.8803 - accuracy: 0.5219 - val_loss: 134.3617 - val_accuracy: 0.6000\n",
            "Epoch 52/100\n",
            "10/10 [==============================] - 0s 7ms/step - loss: 96.5415 - accuracy: 0.4969 - val_loss: 112.3386 - val_accuracy: 0.6000\n",
            "Epoch 53/100\n",
            "10/10 [==============================] - 0s 7ms/step - loss: 46.0798 - accuracy: 0.5469 - val_loss: 46.9144 - val_accuracy: 0.4000\n",
            "Epoch 54/100\n",
            "10/10 [==============================] - 0s 7ms/step - loss: 20.3002 - accuracy: 0.4812 - val_loss: 35.4575 - val_accuracy: 0.6000\n",
            "Epoch 55/100\n",
            "10/10 [==============================] - 0s 7ms/step - loss: 38.0883 - accuracy: 0.5219 - val_loss: 59.4107 - val_accuracy: 0.4000\n",
            "Epoch 56/100\n",
            "10/10 [==============================] - 0s 8ms/step - loss: 18.7080 - accuracy: 0.5688 - val_loss: 17.3401 - val_accuracy: 0.4000\n",
            "Epoch 57/100\n",
            "10/10 [==============================] - 0s 6ms/step - loss: 37.4250 - accuracy: 0.5406 - val_loss: 9.7301 - val_accuracy: 0.6000\n",
            "Epoch 58/100\n",
            "10/10 [==============================] - 0s 7ms/step - loss: 26.6430 - accuracy: 0.5531 - val_loss: 0.8997 - val_accuracy: 0.4750\n",
            "Epoch 59/100\n",
            "10/10 [==============================] - 0s 13ms/step - loss: 24.3121 - accuracy: 0.5219 - val_loss: 38.4975 - val_accuracy: 0.4000\n",
            "Epoch 60/100\n",
            "10/10 [==============================] - 0s 6ms/step - loss: 62.7468 - accuracy: 0.5344 - val_loss: 75.1670 - val_accuracy: 0.4000\n",
            "Epoch 61/100\n",
            "10/10 [==============================] - 0s 7ms/step - loss: 58.8176 - accuracy: 0.5156 - val_loss: 88.2121 - val_accuracy: 0.6000\n",
            "Epoch 62/100\n",
            "10/10 [==============================] - 0s 8ms/step - loss: 92.1995 - accuracy: 0.5188 - val_loss: 80.3276 - val_accuracy: 0.6000\n",
            "Epoch 63/100\n",
            "10/10 [==============================] - 0s 7ms/step - loss: 74.5798 - accuracy: 0.5344 - val_loss: 204.7490 - val_accuracy: 0.6000\n",
            "Epoch 64/100\n",
            "10/10 [==============================] - 0s 7ms/step - loss: 80.7337 - accuracy: 0.5531 - val_loss: 14.0587 - val_accuracy: 0.4000\n",
            "Epoch 65/100\n",
            "10/10 [==============================] - 0s 6ms/step - loss: 32.5463 - accuracy: 0.4969 - val_loss: 17.8059 - val_accuracy: 0.6000\n",
            "Epoch 66/100\n",
            "10/10 [==============================] - 0s 6ms/step - loss: 56.6756 - accuracy: 0.5406 - val_loss: 91.2811 - val_accuracy: 0.4000\n",
            "Epoch 67/100\n",
            "10/10 [==============================] - 0s 7ms/step - loss: 90.4330 - accuracy: 0.5156 - val_loss: 169.9316 - val_accuracy: 0.4000\n",
            "Epoch 68/100\n",
            "10/10 [==============================] - 0s 7ms/step - loss: 75.4479 - accuracy: 0.4656 - val_loss: 57.2666 - val_accuracy: 0.6000\n",
            "Epoch 69/100\n",
            "10/10 [==============================] - 0s 7ms/step - loss: 47.8665 - accuracy: 0.5844 - val_loss: 60.1797 - val_accuracy: 0.6000\n",
            "Epoch 70/100\n",
            "10/10 [==============================] - 0s 6ms/step - loss: 47.2152 - accuracy: 0.5656 - val_loss: 64.9729 - val_accuracy: 0.4000\n",
            "Epoch 71/100\n",
            "10/10 [==============================] - 0s 7ms/step - loss: 48.9339 - accuracy: 0.4781 - val_loss: 85.7043 - val_accuracy: 0.6000\n",
            "Epoch 72/100\n",
            "10/10 [==============================] - 0s 8ms/step - loss: 28.2386 - accuracy: 0.4844 - val_loss: 16.5496 - val_accuracy: 0.6000\n",
            "Epoch 73/100\n",
            "10/10 [==============================] - 0s 7ms/step - loss: 39.4931 - accuracy: 0.5656 - val_loss: 104.1867 - val_accuracy: 0.4000\n",
            "Epoch 74/100\n",
            "10/10 [==============================] - 0s 7ms/step - loss: 73.4721 - accuracy: 0.5094 - val_loss: 33.2897 - val_accuracy: 0.4000\n",
            "Epoch 75/100\n",
            "10/10 [==============================] - 0s 7ms/step - loss: 22.3160 - accuracy: 0.5281 - val_loss: 52.2658 - val_accuracy: 0.4000\n",
            "Epoch 76/100\n",
            "10/10 [==============================] - 0s 7ms/step - loss: 35.7823 - accuracy: 0.5406 - val_loss: 2.6148 - val_accuracy: 0.6625\n",
            "Epoch 77/100\n",
            "10/10 [==============================] - 0s 8ms/step - loss: 59.2155 - accuracy: 0.5406 - val_loss: 107.1876 - val_accuracy: 0.4000\n",
            "Epoch 78/100\n",
            "10/10 [==============================] - 0s 7ms/step - loss: 88.4436 - accuracy: 0.5031 - val_loss: 87.6991 - val_accuracy: 0.4000\n",
            "Epoch 79/100\n",
            "10/10 [==============================] - 0s 6ms/step - loss: 73.9646 - accuracy: 0.4844 - val_loss: 6.6330 - val_accuracy: 0.4000\n",
            "Epoch 80/100\n",
            "10/10 [==============================] - 0s 7ms/step - loss: 88.6191 - accuracy: 0.5406 - val_loss: 10.0194 - val_accuracy: 0.6000\n",
            "Epoch 81/100\n",
            "10/10 [==============================] - 0s 7ms/step - loss: 17.0141 - accuracy: 0.5219 - val_loss: 49.9521 - val_accuracy: 0.6000\n",
            "Epoch 82/100\n",
            "10/10 [==============================] - 0s 11ms/step - loss: 53.7354 - accuracy: 0.5281 - val_loss: 84.7717 - val_accuracy: 0.4000\n",
            "Epoch 83/100\n",
            "10/10 [==============================] - 0s 7ms/step - loss: 81.2773 - accuracy: 0.4969 - val_loss: 93.6682 - val_accuracy: 0.4000\n",
            "Epoch 84/100\n",
            "10/10 [==============================] - 0s 6ms/step - loss: 56.1884 - accuracy: 0.4563 - val_loss: 133.5016 - val_accuracy: 0.6000\n",
            "Epoch 85/100\n",
            "10/10 [==============================] - 0s 8ms/step - loss: 78.0258 - accuracy: 0.5281 - val_loss: 5.0275 - val_accuracy: 0.6000\n",
            "Epoch 86/100\n",
            "10/10 [==============================] - 0s 7ms/step - loss: 112.8483 - accuracy: 0.4844 - val_loss: 5.6726 - val_accuracy: 0.4000\n",
            "Epoch 87/100\n",
            "10/10 [==============================] - 0s 8ms/step - loss: 33.5135 - accuracy: 0.4844 - val_loss: 55.8091 - val_accuracy: 0.6000\n",
            "Epoch 88/100\n",
            "10/10 [==============================] - 0s 8ms/step - loss: 34.2894 - accuracy: 0.4719 - val_loss: 3.6767 - val_accuracy: 0.4000\n",
            "Epoch 89/100\n",
            "10/10 [==============================] - 0s 9ms/step - loss: 27.5846 - accuracy: 0.4656 - val_loss: 16.9922 - val_accuracy: 0.6000\n",
            "Epoch 90/100\n",
            "10/10 [==============================] - 0s 7ms/step - loss: 24.4188 - accuracy: 0.5406 - val_loss: 7.0292 - val_accuracy: 0.6000\n",
            "Epoch 91/100\n",
            "10/10 [==============================] - 0s 6ms/step - loss: 67.5382 - accuracy: 0.5031 - val_loss: 85.8404 - val_accuracy: 0.4000\n",
            "Epoch 92/100\n",
            "10/10 [==============================] - 0s 7ms/step - loss: 51.7181 - accuracy: 0.4719 - val_loss: 97.4193 - val_accuracy: 0.6000\n",
            "Epoch 93/100\n",
            "10/10 [==============================] - 0s 7ms/step - loss: 30.4666 - accuracy: 0.5344 - val_loss: 10.7275 - val_accuracy: 0.6000\n",
            "Epoch 94/100\n",
            "10/10 [==============================] - 0s 6ms/step - loss: 29.4657 - accuracy: 0.5094 - val_loss: 117.9195 - val_accuracy: 0.6000\n",
            "Epoch 95/100\n",
            "10/10 [==============================] - 0s 9ms/step - loss: 95.2287 - accuracy: 0.5094 - val_loss: 89.6925 - val_accuracy: 0.6000\n",
            "Epoch 96/100\n",
            "10/10 [==============================] - 0s 7ms/step - loss: 102.7474 - accuracy: 0.5281 - val_loss: 41.6769 - val_accuracy: 0.6000\n",
            "Epoch 97/100\n",
            "10/10 [==============================] - 0s 6ms/step - loss: 56.1663 - accuracy: 0.5344 - val_loss: 48.2814 - val_accuracy: 0.6000\n",
            "Epoch 98/100\n",
            "10/10 [==============================] - 0s 6ms/step - loss: 57.2584 - accuracy: 0.4781 - val_loss: 39.2773 - val_accuracy: 0.4000\n",
            "Epoch 99/100\n",
            "10/10 [==============================] - 0s 7ms/step - loss: 27.6435 - accuracy: 0.5594 - val_loss: 38.7825 - val_accuracy: 0.4000\n",
            "Epoch 100/100\n",
            "10/10 [==============================] - 0s 8ms/step - loss: 25.4225 - accuracy: 0.5156 - val_loss: 31.3747 - val_accuracy: 0.4000\n"
          ]
        }
      ],
      "source": [
        "history = model.fit(X_train,y_train,validation_data=(X_test,y_test),epochs=100)"
      ]
    },
    {
      "cell_type": "code",
      "execution_count": 16,
      "metadata": {
        "colab": {
          "base_uri": "https://localhost:8080/",
          "height": 283
        },
        "id": "ZMQRl2lm_VHq",
        "outputId": "4ada872e-f5c9-475d-b7d4-80bf8bac1f62"
      },
      "outputs": [
        {
          "data": {
            "text/plain": [
              "[<matplotlib.lines.Line2D at 0x18208e78350>]"
            ]
          },
          "execution_count": 16,
          "metadata": {},
          "output_type": "execute_result"
        },
        {
          "data": {
            "image/png": "[encoded data removed]",
            "text/plain": [
              "<Figure size 640x480 with 1 Axes>"
            ]
          },
          "metadata": {},
          "output_type": "display_data"
        }
      ],
      "source": [
        "import matplotlib.pyplot as plt\n",
        "plt.plot(history.history['val_accuracy'])"
      ]
    },
    {
      "cell_type": "code",
      "execution_count": 17,
      "metadata": {
        "id": "_STlGeh5_lBW"
      },
      "outputs": [],
      "source": [
        "# Applying scaling"
      ]
    },
    {
      "cell_type": "code",
      "execution_count": 18,
      "metadata": {
        "id": "QQGb-bfy_5TK"
      },
      "outputs": [],
      "source": [
        "from sklearn.preprocessing import StandardScaler\n",
        "scaler = StandardScaler()\n",
        "\n",
        "X_train_scaled = scaler.fit_transform(X_train)\n",
        "X_test_scaled = scaler.transform(X_test)"
      ]
    },
    {
      "cell_type": "code",
      "execution_count": 19,
      "metadata": {
        "colab": {
          "base_uri": "https://localhost:8080/"
        },
        "id": "NRGauCO7KrVT",
        "outputId": "df4a8f64-242c-4430-9cdb-2ca5da2276ab"
      },
      "outputs": [
        {
          "data": {
            "text/plain": [
              "array([[ 0.88928823, -0.65924556],\n",
              "       [-0.17254846,  0.87392651],\n",
              "       [-1.04132394, -0.36440478],\n",
              "       [ 0.98581884,  0.6085698 ],\n",
              "       [-0.94479333,  0.57908572],\n",
              "       [ 0.40663519,  0.01888824],\n",
              "       [ 0.98581884,  2.11225779],\n",
              "       [ 0.31010458, -0.30543662],\n",
              "       [ 1.7580637 , -0.27595254],\n",
              "       [-0.17254846,  2.20071003],\n",
              "       [ 1.7580637 ,  1.0213469 ],\n",
              "       [-1.33091576, -1.48479975],\n",
              "       [ 2.04765553,  0.54960165],\n",
              "       [ 1.27541066,  1.90586924],\n",
              "       [-1.13785454,  0.31372902],\n",
              "       [-0.36560968, -0.77718187],\n",
              "       [-1.71703819,  0.49063349],\n",
              "       [-0.5586709 , -1.51428383],\n",
              "       [ 0.31010458, -0.71821372],\n",
              "       [ 0.02051275, -0.57079333],\n",
              "       [ 0.02051275,  0.04837232],\n",
              "       [-0.07601785, -0.51182517],\n",
              "       [-0.6552015 , -1.51428383],\n",
              "       [ 0.02051275,  0.31372902],\n",
              "       [ 0.31010458,  0.07785639],\n",
              "       [-0.46214029, -1.13099081],\n",
              "       [-0.75173211, -1.54376791],\n",
              "       [-0.26907907, -0.65924556],\n",
              "       [-1.13785454,  0.49063349],\n",
              "       [-0.07601785,  2.20071003],\n",
              "       [ 0.02051275,  0.04837232],\n",
              "       [-1.13785454, -1.57325199],\n",
              "       [ 1.08234944,  0.54960165],\n",
              "       [-0.26907907, -1.24892713],\n",
              "       [ 1.37194127, -0.92460227],\n",
              "       [-1.42744637, -1.21944305],\n",
              "       [-0.94479333, -0.95408634],\n",
              "       [ 1.95112492, -0.65924556],\n",
              "       [ 0.88928823, -0.57079333],\n",
              "       [-1.13785454,  0.31372902],\n",
              "       [ 0.02051275, -0.24646847],\n",
              "       [ 0.79275762, -1.39634752],\n",
              "       [-0.26907907, -0.36440478],\n",
              "       [ 0.88928823,  1.2867036 ],\n",
              "       [ 0.31010458, -0.18750031],\n",
              "       [-0.26907907, -0.57079333],\n",
              "       [-0.26907907, -1.39634752],\n",
              "       [ 1.46847188, -1.04253858],\n",
              "       [-0.07601785,  0.13682455],\n",
              "       [-0.84826272, -0.65924556],\n",
              "       [-0.07601785,  0.01888824],\n",
              "       [-0.26907907,  0.10734047],\n",
              "       [ 0.21357397, -0.30543662],\n",
              "       [-0.26907907,  0.28424494],\n",
              "       [ 0.11704336,  0.04837232],\n",
              "       [ 1.95112492,  2.20071003],\n",
              "       [-1.04132394, -1.45531567],\n",
              "       [ 0.31010458,  0.31372902],\n",
              "       [ 2.04765553, -1.18995897],\n",
              "       [-1.13785454, -0.51182517],\n",
              "       [ 0.21357397,  0.16630863],\n",
              "       [-0.26907907, -0.92460227],\n",
              "       [-0.6552015 ,  0.04837232],\n",
              "       [ 0.21357397,  0.07785639],\n",
              "       [ 0.40663519, -0.12853215],\n",
              "       [-1.13785454, -1.10150673],\n",
              "       [-0.07601785,  2.25967818],\n",
              "       [ 1.08234944, -0.12853215],\n",
              "       [ 0.88928823,  1.05083098],\n",
              "       [-0.07601785,  0.28424494],\n",
              "       [-0.5586709 , -1.51428383],\n",
              "       [-1.13785454, -1.0130545 ],\n",
              "       [-0.75173211,  1.37515584],\n",
              "       [ 1.08234944,  0.57908572],\n",
              "       [ 1.56500249, -1.2784112 ],\n",
              "       [ 0.69622701, -1.39634752],\n",
              "       [-0.6552015 , -1.04253858],\n",
              "       [ 1.17888005,  0.54960165],\n",
              "       [-0.26907907, -1.45531567],\n",
              "       [-1.62050759,  0.54960165],\n",
              "       [-1.04132394, -1.13099081],\n",
              "       [-0.07601785,  0.04837232],\n",
              "       [ 0.31010458,  0.07785639],\n",
              "       [ 0.88928823, -1.36686344],\n",
              "       [-1.04132394, -0.3349207 ],\n",
              "       [-1.8135688 ,  0.19579271],\n",
              "       [-1.8135688 , -1.4258316 ],\n",
              "       [ 0.69622701,  1.81741701],\n",
              "       [-0.07601785,  0.31372902],\n",
              "       [-1.62050759,  0.07785639],\n",
              "       [-0.6552015 ,  1.43412399],\n",
              "       [-0.26907907, -0.24646847],\n",
              "       [-0.36560968,  1.34567176],\n",
              "       [ 0.5031658 ,  1.25721952],\n",
              "       [-0.6552015 ,  0.19579271],\n",
              "       [-1.52397698, -0.42337294],\n",
              "       [-1.04132394,  0.43166533],\n",
              "       [ 0.79275762,  0.28424494],\n",
              "       [ 1.95112492, -0.92460227],\n",
              "       [ 0.79275762, -0.30543662],\n",
              "       [ 0.21357397,  0.25476086],\n",
              "       [-1.71703819, -0.60027741],\n",
              "       [-0.26907907,  0.16630863],\n",
              "       [-1.33091576, -1.24892713],\n",
              "       [-0.26907907, -0.42337294],\n",
              "       [ 0.11704336,  0.10734047],\n",
              "       [-0.94479333,  0.46114941],\n",
              "       [ 2.04765553,  0.40218125],\n",
              "       [-1.91009941,  0.37269718],\n",
              "       [ 2.04765553, -0.80666595],\n",
              "       [ 2.14418614,  1.13928321],\n",
              "       [ 0.79275762, -1.21944305],\n",
              "       [ 0.40663519, -0.45285701],\n",
              "       [ 0.02051275, -0.24646847],\n",
              "       [ 1.46847188,  0.37269718],\n",
              "       [-0.17254846, -0.57079333],\n",
              "       [ 0.21357397, -0.24646847],\n",
              "       [-0.46214029,  2.34813042],\n",
              "       [ 0.11704336,  0.22527679],\n",
              "       [ 0.21357397, -0.65924556],\n",
              "       [ 0.98581884, -1.07202266],\n",
              "       [-0.17254846,  0.16630863],\n",
              "       [-0.07601785,  0.31372902],\n",
              "       [ 0.40663519, -0.48234109],\n",
              "       [-0.36560968, -1.30789528],\n",
              "       [ 0.88928823, -0.77718187],\n",
              "       [-0.94479333,  0.43166533],\n",
              "       [-0.07601785, -0.42337294],\n",
              "       [-0.94479333, -0.42337294],\n",
              "       [-1.8135688 ,  0.46114941],\n",
              "       [-0.84826272, -1.21944305],\n",
              "       [-0.94479333, -0.30543662],\n",
              "       [ 0.98581884,  0.78547427],\n",
              "       [-1.62050759, -0.04007992],\n",
              "       [-1.04132394, -0.3349207 ],\n",
              "       [ 0.02051275, -0.54130925],\n",
              "       [-0.6552015 , -0.3349207 ],\n",
              "       [-1.13785454, -1.54376791],\n",
              "       [ 1.95112492, -1.36686344],\n",
              "       [-0.6552015 , -1.60273606],\n",
              "       [ 0.21357397, -0.36440478],\n",
              "       [ 0.88928823,  2.20071003],\n",
              "       [ 1.17888005, -0.98357042],\n",
              "       [-0.17254846, -0.51182517],\n",
              "       [ 1.66153309,  1.78793293],\n",
              "       [ 1.08234944, -1.21944305],\n",
              "       [ 0.02051275,  1.2867036 ],\n",
              "       [-0.46214029, -0.27595254],\n",
              "       [ 1.66153309, -0.89511819],\n",
              "       [ 0.31010458,  0.52011757],\n",
              "       [-1.04132394, -1.54376791],\n",
              "       [ 1.56500249,  1.13928321],\n",
              "       [-1.52397698,  0.3432131 ],\n",
              "       [ 0.02051275, -0.12853215],\n",
              "       [ 0.11704336, -0.80666595],\n",
              "       [ 0.21357397,  1.10979913],\n",
              "       [ 0.40663519, -0.15801623],\n",
              "       [-0.46214029, -0.01059584],\n",
              "       [ 1.08234944,  2.11225779],\n",
              "       [-0.26907907, -0.12853215],\n",
              "       [-0.75173211, -0.60027741],\n",
              "       [ 1.17888005, -1.45531567],\n",
              "       [-1.42744637, -1.45531567],\n",
              "       [ 1.85459431, -0.27595254],\n",
              "       [ 1.85459431,  0.13682455],\n",
              "       [ 0.40663519,  0.16630863],\n",
              "       [ 1.27541066, -1.36686344],\n",
              "       [-0.46214029, -1.21944305],\n",
              "       [-0.75173211,  1.93535332],\n",
              "       [-0.26907907,  1.13928321],\n",
              "       [ 0.02051275, -0.57079333],\n",
              "       [ 0.21357397, -0.12853215],\n",
              "       [-0.5586709 ,  1.93535332],\n",
              "       [-0.94479333,  0.28424494],\n",
              "       [-1.91009941,  0.49063349],\n",
              "       [-1.33091576,  0.57908572],\n",
              "       [ 0.21357397,  0.16630863],\n",
              "       [ 1.37194127, -1.4258316 ],\n",
              "       [-0.07601785,  0.69702204],\n",
              "       [ 0.11704336,  1.90586924],\n",
              "       [-1.71703819, -0.98357042],\n",
              "       [ 0.21357397, -0.36440478],\n",
              "       [-1.8135688 , -1.30789528],\n",
              "       [ 0.79275762,  0.54960165],\n",
              "       [-0.17254846,  1.43412399],\n",
              "       [-1.04132394,  0.57908572],\n",
              "       [-1.23438515, -1.07202266],\n",
              "       [ 1.37194127,  2.02380556],\n",
              "       [ 0.79275762, -1.10150673],\n",
              "       [ 0.79275762,  0.13682455],\n",
              "       [-1.8135688 , -1.2784112 ],\n",
              "       [ 0.02051275,  1.25721952],\n",
              "       [ 0.88928823, -0.60027741],\n",
              "       [ 2.14418614,  0.40218125],\n",
              "       [ 2.14418614, -0.80666595],\n",
              "       [ 0.98581884, -1.07202266],\n",
              "       [ 0.11704336,  1.55206031],\n",
              "       [-0.94479333,  0.52011757],\n",
              "       [-1.23438515,  0.28424494],\n",
              "       [ 0.40663519,  0.6085698 ],\n",
              "       [ 0.11704336,  0.16630863],\n",
              "       [ 0.21357397,  0.04837232],\n",
              "       [ 2.04765553,  2.17122595],\n",
              "       [-0.07601785, -0.36440478],\n",
              "       [-0.26907907,  0.81495835],\n",
              "       [-1.42744637, -0.18750031],\n",
              "       [ 1.08234944,  0.13682455],\n",
              "       [ 0.31010458,  0.07785639],\n",
              "       [ 0.11704336,  0.04837232],\n",
              "       [ 0.98581884, -1.0130545 ],\n",
              "       [-0.5586709 ,  1.49309215],\n",
              "       [-1.13785454, -1.60273606],\n",
              "       [ 1.27541066,  2.25967818],\n",
              "       [-1.42744637, -0.09904808],\n",
              "       [-1.8135688 , -1.48479975],\n",
              "       [ 0.88928823, -1.16047489],\n",
              "       [ 2.14418614, -0.68872964],\n",
              "       [ 0.5996964 , -0.89511819],\n",
              "       [-1.23438515, -1.39634752],\n",
              "       [-0.46214029, -0.83615003],\n",
              "       [-0.84826272, -0.24646847],\n",
              "       [ 1.46847188,  2.17122595],\n",
              "       [ 0.40663519,  1.0213469 ],\n",
              "       [ 0.02051275, -0.42337294],\n",
              "       [-1.13785454, -1.16047489],\n",
              "       [-0.75173211,  0.57908572],\n",
              "       [ 0.11704336,  1.08031505],\n",
              "       [-0.5586709 ,  1.40463991],\n",
              "       [ 0.11704336,  1.90586924],\n",
              "       [ 0.21357397,  2.14174187],\n",
              "       [ 1.46847188,  1.0213469 ],\n",
              "       [-1.71703819,  0.13682455],\n",
              "       [-0.26907907, -0.48234109],\n",
              "       [ 0.11704336,  0.78547427],\n",
              "       [ 0.88928823, -1.30789528],\n",
              "       [-0.26907907, -0.27595254],\n",
              "       [ 2.14418614, -1.04253858],\n",
              "       [ 0.40663519,  0.31372902],\n",
              "       [-0.17254846,  1.64051254],\n",
              "       [ 0.79275762, -0.83615003],\n",
              "       [-0.94479333,  1.58154438],\n",
              "       [ 0.11704336, -0.24646847],\n",
              "       [-1.23438515,  0.52011757],\n",
              "       [ 0.11704336, -0.80666595],\n",
              "       [ 1.08234944, -0.98357042],\n",
              "       [ 0.98581884,  1.81741701],\n",
              "       [-1.42744637, -0.62976148],\n",
              "       [ 0.98581884, -1.18995897],\n",
              "       [-1.33091576, -0.42337294],\n",
              "       [ 0.31010458,  0.07785639],\n",
              "       [-0.26907907, -0.57079333],\n",
              "       [-0.75173211,  1.10979913],\n",
              "       [ 1.56500249,  1.0213469 ],\n",
              "       [-1.04132394,  0.6085698 ],\n",
              "       [ 0.40663519,  0.10734047],\n",
              "       [-0.94479333, -0.30543662],\n",
              "       [ 1.17888005, -0.7476978 ],\n",
              "       [-1.91009941, -0.51182517],\n",
              "       [ 1.08234944, -1.21944305],\n",
              "       [ 0.31010458,  0.28424494],\n",
              "       [-0.75173211, -1.60273606],\n",
              "       [-0.26907907, -1.30789528],\n",
              "       [-0.26907907,  0.54960165],\n",
              "       [ 0.98581884,  1.90586924],\n",
              "       [-0.6552015 , -0.09904808],\n",
              "       [-0.46214029,  1.2867036 ],\n",
              "       [ 0.31010458, -0.51182517],\n",
              "       [ 1.85459431,  1.55206031],\n",
              "       [ 1.08234944,  0.49063349],\n",
              "       [ 2.04765553,  0.19579271],\n",
              "       [-1.71703819,  0.37269718],\n",
              "       [-0.17254846, -0.18750031],\n",
              "       [-0.6552015 ,  0.57908572],\n",
              "       [ 1.37194127,  1.31618768],\n",
              "       [ 1.08234944, -0.89511819],\n",
              "       [ 1.85459431, -1.07202266],\n",
              "       [-0.75173211,  0.52011757],\n",
              "       [-1.33091576, -1.10150673],\n",
              "       [ 0.79275762,  0.37269718],\n",
              "       [-0.84826272,  0.40218125],\n",
              "       [-0.75173211,  0.31372902],\n",
              "       [-1.04132394,  1.99432148],\n",
              "       [-0.07601785,  0.07785639],\n",
              "       [ 1.37194127,  2.3776145 ],\n",
              "       [-0.07601785,  0.16630863],\n",
              "       [-0.07601785,  1.99432148],\n",
              "       [-0.75173211,  0.28424494],\n",
              "       [-1.13785454,  0.3432131 ],\n",
              "       [ 0.31010458, -0.27595254],\n",
              "       [ 0.98581884, -1.16047489],\n",
              "       [ 1.37194127,  0.6085698 ],\n",
              "       [-1.52397698, -1.51428383],\n",
              "       [-0.94479333, -0.7476978 ],\n",
              "       [-1.13785454,  0.07785639],\n",
              "       [ 0.40663519, -0.45285701],\n",
              "       [-1.91009941, -0.7476978 ],\n",
              "       [ 0.40663519,  0.28424494],\n",
              "       [-0.26907907,  0.22527679],\n",
              "       [-0.5586709 ,  0.49063349],\n",
              "       [-0.36560968, -0.77718187],\n",
              "       [-0.26907907,  0.04837232],\n",
              "       [-0.07601785,  0.22527679],\n",
              "       [-0.26907907,  0.16630863],\n",
              "       [ 0.31010458, -0.54130925],\n",
              "       [ 0.79275762,  0.78547427],\n",
              "       [ 0.98581884,  2.02380556],\n",
              "       [-0.17254846, -0.27595254],\n",
              "       [-1.04132394, -0.45285701],\n",
              "       [-0.26907907, -0.3349207 ],\n",
              "       [ 0.11704336, -0.30543662],\n",
              "       [-0.26907907, -0.7476978 ],\n",
              "       [-0.07601785, -1.07202266],\n",
              "       [-0.26907907,  0.07785639],\n",
              "       [ 0.5031658 ,  1.75844885],\n",
              "       [-0.36560968,  1.25721952],\n",
              "       [ 0.79275762,  1.40463991],\n",
              "       [ 0.98581884, -0.83615003],\n",
              "       [-1.71703819, -1.36686344],\n",
              "       [-0.84826272,  0.31372902],\n",
              "       [-0.84826272,  2.31864634]])"
            ]
          },
          "execution_count": 19,
          "metadata": {},
          "output_type": "execute_result"
        }
      ],
      "source": [
        "X_train_scaled"
      ]
    },
    {
      "cell_type": "code",
      "execution_count": 21,
      "metadata": {
        "colab": {
          "base_uri": "https://localhost:8080/",
          "height": 339
        },
        "id": "CvhZdAbXKwoJ",
        "outputId": "3d8b5669-434b-4b37-962e-4a0de5d1eac1"
      },
      "outputs": [
        {
          "data": {
            "text/plain": [
              "<Axes: >"
            ]
          },
          "execution_count": 21,
          "metadata": {},
          "output_type": "execute_result"
        },
        {
          "data": {
            "image/png": "[encoded data removed]",
            "text/plain": [
              "<Figure size 640x480 with 1 Axes>"
            ]
          },
          "metadata": {},
          "output_type": "display_data"
        }
      ],
      "source": [
        "sns.scatterplot(x=X_train_scaled[:,0],y=X_train_scaled[:,1])"
      ]
    },
    {
      "cell_type": "code",
      "execution_count": 22,
      "metadata": {
        "colab": {
          "base_uri": "https://localhost:8080/"
        },
        "id": "g-DZoervAJzJ",
        "outputId": "8ec45eea-c1e0-463c-c9ed-77e0e75e6396"
      },
      "outputs": [
        {
          "name": "stdout",
          "output_type": "stream",
          "text": [
            "Epoch 1/100\n",
            "10/10 [==============================] - 1s 19ms/step - loss: 0.7385 - accuracy: 0.3219 - val_loss: 0.7046 - val_accuracy: 0.4875\n",
            "Epoch 2/100\n",
            "10/10 [==============================] - 0s 5ms/step - loss: 0.6696 - accuracy: 0.7000 - val_loss: 0.6370 - val_accuracy: 0.7875\n",
            "Epoch 3/100\n",
            "10/10 [==============================] - 0s 7ms/step - loss: 0.6136 - accuracy: 0.7719 - val_loss: 0.5804 - val_accuracy: 0.7875\n",
            "Epoch 4/100\n",
            "10/10 [==============================] - 0s 7ms/step - loss: 0.5659 - accuracy: 0.8094 - val_loss: 0.5333 - val_accuracy: 0.8000\n",
            "Epoch 5/100\n",
            "10/10 [==============================] - 0s 7ms/step - loss: 0.5263 - accuracy: 0.8219 - val_loss: 0.4929 - val_accuracy: 0.8000\n",
            "Epoch 6/100\n",
            "10/10 [==============================] - 0s 6ms/step - loss: 0.4902 - accuracy: 0.8250 - val_loss: 0.4607 - val_accuracy: 0.7875\n",
            "Epoch 7/100\n",
            "10/10 [==============================] - 0s 9ms/step - loss: 0.4603 - accuracy: 0.8313 - val_loss: 0.4319 - val_accuracy: 0.7875\n",
            "Epoch 8/100\n",
            "10/10 [==============================] - 0s 6ms/step - loss: 0.4332 - accuracy: 0.8500 - val_loss: 0.4079 - val_accuracy: 0.8000\n",
            "Epoch 9/100\n",
            "10/10 [==============================] - 0s 6ms/step - loss: 0.4109 - accuracy: 0.8656 - val_loss: 0.3871 - val_accuracy: 0.8000\n",
            "Epoch 10/100\n",
            "10/10 [==============================] - 0s 6ms/step - loss: 0.3902 - accuracy: 0.8719 - val_loss: 0.3712 - val_accuracy: 0.8250\n",
            "Epoch 11/100\n",
            "10/10 [==============================] - 0s 6ms/step - loss: 0.3728 - accuracy: 0.8844 - val_loss: 0.3568 - val_accuracy: 0.8375\n",
            "Epoch 12/100\n",
            "10/10 [==============================] - 0s 6ms/step - loss: 0.3572 - accuracy: 0.8813 - val_loss: 0.3453 - val_accuracy: 0.8375\n",
            "Epoch 13/100\n",
            "10/10 [==============================] - 0s 6ms/step - loss: 0.3442 - accuracy: 0.8813 - val_loss: 0.3357 - val_accuracy: 0.8375\n",
            "Epoch 14/100\n",
            "10/10 [==============================] - 0s 6ms/step - loss: 0.3329 - accuracy: 0.8844 - val_loss: 0.3277 - val_accuracy: 0.8375\n",
            "Epoch 15/100\n",
            "10/10 [==============================] - 0s 6ms/step - loss: 0.3227 - accuracy: 0.8813 - val_loss: 0.3218 - val_accuracy: 0.8375\n",
            "Epoch 16/100\n",
            "10/10 [==============================] - 0s 7ms/step - loss: 0.3146 - accuracy: 0.8875 - val_loss: 0.3149 - val_accuracy: 0.8375\n",
            "Epoch 17/100\n",
            "10/10 [==============================] - 0s 7ms/step - loss: 0.3069 - accuracy: 0.8906 - val_loss: 0.3106 - val_accuracy: 0.8375\n",
            "Epoch 18/100\n",
            "10/10 [==============================] - 0s 6ms/step - loss: 0.3013 - accuracy: 0.8875 - val_loss: 0.3089 - val_accuracy: 0.8250\n",
            "Epoch 19/100\n",
            "10/10 [==============================] - 0s 6ms/step - loss: 0.2955 - accuracy: 0.8938 - val_loss: 0.3031 - val_accuracy: 0.8375\n",
            "Epoch 20/100\n",
            "10/10 [==============================] - 0s 7ms/step - loss: 0.2907 - accuracy: 0.8938 - val_loss: 0.2985 - val_accuracy: 0.8500\n",
            "Epoch 21/100\n",
            "10/10 [==============================] - 0s 7ms/step - loss: 0.2860 - accuracy: 0.9000 - val_loss: 0.2977 - val_accuracy: 0.8500\n",
            "Epoch 22/100\n",
            "10/10 [==============================] - 0s 6ms/step - loss: 0.2823 - accuracy: 0.8938 - val_loss: 0.2969 - val_accuracy: 0.8625\n",
            "Epoch 23/100\n",
            "10/10 [==============================] - 0s 8ms/step - loss: 0.2787 - accuracy: 0.8969 - val_loss: 0.2939 - val_accuracy: 0.8625\n",
            "Epoch 24/100\n",
            "10/10 [==============================] - 0s 8ms/step - loss: 0.2758 - accuracy: 0.8969 - val_loss: 0.2920 - val_accuracy: 0.8625\n",
            "Epoch 25/100\n",
            "10/10 [==============================] - 0s 7ms/step - loss: 0.2728 - accuracy: 0.8938 - val_loss: 0.2878 - val_accuracy: 0.8625\n",
            "Epoch 26/100\n",
            "10/10 [==============================] - 0s 8ms/step - loss: 0.2702 - accuracy: 0.9000 - val_loss: 0.2867 - val_accuracy: 0.8625\n",
            "Epoch 27/100\n",
            "10/10 [==============================] - 0s 6ms/step - loss: 0.2675 - accuracy: 0.9000 - val_loss: 0.2853 - val_accuracy: 0.8625\n",
            "Epoch 28/100\n",
            "10/10 [==============================] - 0s 6ms/step - loss: 0.2656 - accuracy: 0.9000 - val_loss: 0.2849 - val_accuracy: 0.8625\n",
            "Epoch 29/100\n",
            "10/10 [==============================] - 0s 10ms/step - loss: 0.2635 - accuracy: 0.9000 - val_loss: 0.2846 - val_accuracy: 0.8625\n",
            "Epoch 30/100\n",
            "10/10 [==============================] - 0s 7ms/step - loss: 0.2623 - accuracy: 0.8969 - val_loss: 0.2800 - val_accuracy: 0.8750\n",
            "Epoch 31/100\n",
            "10/10 [==============================] - 0s 6ms/step - loss: 0.2597 - accuracy: 0.9000 - val_loss: 0.2803 - val_accuracy: 0.8750\n",
            "Epoch 32/100\n",
            "10/10 [==============================] - 0s 7ms/step - loss: 0.2583 - accuracy: 0.9000 - val_loss: 0.2804 - val_accuracy: 0.8750\n",
            "Epoch 33/100\n",
            "10/10 [==============================] - 0s 7ms/step - loss: 0.2571 - accuracy: 0.9000 - val_loss: 0.2794 - val_accuracy: 0.8750\n",
            "Epoch 34/100\n",
            "10/10 [==============================] - 0s 6ms/step - loss: 0.2555 - accuracy: 0.9000 - val_loss: 0.2791 - val_accuracy: 0.8750\n",
            "Epoch 35/100\n",
            "10/10 [==============================] - 0s 6ms/step - loss: 0.2545 - accuracy: 0.9000 - val_loss: 0.2794 - val_accuracy: 0.8750\n",
            "Epoch 36/100\n",
            "10/10 [==============================] - 0s 7ms/step - loss: 0.2531 - accuracy: 0.9000 - val_loss: 0.2767 - val_accuracy: 0.8750\n",
            "Epoch 37/100\n",
            "10/10 [==============================] - 0s 7ms/step - loss: 0.2520 - accuracy: 0.9000 - val_loss: 0.2739 - val_accuracy: 0.8750\n",
            "Epoch 38/100\n",
            "10/10 [==============================] - 0s 8ms/step - loss: 0.2510 - accuracy: 0.9000 - val_loss: 0.2742 - val_accuracy: 0.8750\n",
            "Epoch 39/100\n",
            "10/10 [==============================] - 0s 8ms/step - loss: 0.2500 - accuracy: 0.9000 - val_loss: 0.2732 - val_accuracy: 0.8750\n",
            "Epoch 40/100\n",
            "10/10 [==============================] - 0s 7ms/step - loss: 0.2492 - accuracy: 0.9000 - val_loss: 0.2718 - val_accuracy: 0.8875\n",
            "Epoch 41/100\n",
            "10/10 [==============================] - 0s 5ms/step - loss: 0.2479 - accuracy: 0.9000 - val_loss: 0.2730 - val_accuracy: 0.8750\n",
            "Epoch 42/100\n",
            "10/10 [==============================] - 0s 7ms/step - loss: 0.2472 - accuracy: 0.9000 - val_loss: 0.2736 - val_accuracy: 0.8750\n",
            "Epoch 43/100\n",
            "10/10 [==============================] - 0s 7ms/step - loss: 0.2467 - accuracy: 0.9000 - val_loss: 0.2736 - val_accuracy: 0.8750\n",
            "Epoch 44/100\n",
            "10/10 [==============================] - 0s 5ms/step - loss: 0.2464 - accuracy: 0.9000 - val_loss: 0.2717 - val_accuracy: 0.8750\n",
            "Epoch 45/100\n",
            "10/10 [==============================] - 0s 6ms/step - loss: 0.2451 - accuracy: 0.9000 - val_loss: 0.2710 - val_accuracy: 0.8750\n",
            "Epoch 46/100\n",
            "10/10 [==============================] - 0s 5ms/step - loss: 0.2445 - accuracy: 0.9000 - val_loss: 0.2696 - val_accuracy: 0.8750\n",
            "Epoch 47/100\n",
            "10/10 [==============================] - 0s 6ms/step - loss: 0.2436 - accuracy: 0.9000 - val_loss: 0.2701 - val_accuracy: 0.8750\n",
            "Epoch 48/100\n",
            "10/10 [==============================] - 0s 6ms/step - loss: 0.2431 - accuracy: 0.9000 - val_loss: 0.2709 - val_accuracy: 0.8750\n",
            "Epoch 49/100\n",
            "10/10 [==============================] - 0s 7ms/step - loss: 0.2429 - accuracy: 0.9000 - val_loss: 0.2710 - val_accuracy: 0.8750\n",
            "Epoch 50/100\n",
            "10/10 [==============================] - 0s 8ms/step - loss: 0.2421 - accuracy: 0.9000 - val_loss: 0.2702 - val_accuracy: 0.8750\n",
            "Epoch 51/100\n",
            "10/10 [==============================] - 0s 6ms/step - loss: 0.2416 - accuracy: 0.9000 - val_loss: 0.2704 - val_accuracy: 0.8750\n",
            "Epoch 52/100\n",
            "10/10 [==============================] - 0s 7ms/step - loss: 0.2410 - accuracy: 0.9000 - val_loss: 0.2703 - val_accuracy: 0.8750\n",
            "Epoch 53/100\n",
            "10/10 [==============================] - 0s 6ms/step - loss: 0.2406 - accuracy: 0.9000 - val_loss: 0.2691 - val_accuracy: 0.8750\n",
            "Epoch 54/100\n",
            "10/10 [==============================] - 0s 7ms/step - loss: 0.2402 - accuracy: 0.9000 - val_loss: 0.2681 - val_accuracy: 0.8750\n",
            "Epoch 55/100\n",
            "10/10 [==============================] - 0s 11ms/step - loss: 0.2401 - accuracy: 0.9000 - val_loss: 0.2697 - val_accuracy: 0.8750\n",
            "Epoch 56/100\n",
            "10/10 [==============================] - 0s 4ms/step - loss: 0.2397 - accuracy: 0.9000 - val_loss: 0.2707 - val_accuracy: 0.8750\n",
            "Epoch 57/100\n",
            "10/10 [==============================] - 0s 6ms/step - loss: 0.2392 - accuracy: 0.9000 - val_loss: 0.2680 - val_accuracy: 0.8750\n",
            "Epoch 58/100\n",
            "10/10 [==============================] - 0s 6ms/step - loss: 0.2390 - accuracy: 0.9000 - val_loss: 0.2703 - val_accuracy: 0.8750\n",
            "Epoch 59/100\n",
            "10/10 [==============================] - 0s 6ms/step - loss: 0.2382 - accuracy: 0.9031 - val_loss: 0.2666 - val_accuracy: 0.9125\n",
            "Epoch 60/100\n",
            "10/10 [==============================] - 0s 7ms/step - loss: 0.2379 - accuracy: 0.9062 - val_loss: 0.2661 - val_accuracy: 0.9125\n",
            "Epoch 61/100\n",
            "10/10 [==============================] - 0s 5ms/step - loss: 0.2373 - accuracy: 0.9031 - val_loss: 0.2672 - val_accuracy: 0.9125\n",
            "Epoch 62/100\n",
            "10/10 [==============================] - 0s 7ms/step - loss: 0.2371 - accuracy: 0.9062 - val_loss: 0.2684 - val_accuracy: 0.9125\n",
            "Epoch 63/100\n",
            "10/10 [==============================] - 0s 7ms/step - loss: 0.2367 - accuracy: 0.9062 - val_loss: 0.2685 - val_accuracy: 0.9000\n",
            "Epoch 64/100\n",
            "10/10 [==============================] - 0s 6ms/step - loss: 0.2363 - accuracy: 0.9062 - val_loss: 0.2683 - val_accuracy: 0.9125\n",
            "Epoch 65/100\n",
            "10/10 [==============================] - 0s 6ms/step - loss: 0.2361 - accuracy: 0.9062 - val_loss: 0.2689 - val_accuracy: 0.8750\n",
            "Epoch 66/100\n",
            "10/10 [==============================] - 0s 7ms/step - loss: 0.2356 - accuracy: 0.9094 - val_loss: 0.2677 - val_accuracy: 0.9125\n",
            "Epoch 67/100\n",
            "10/10 [==============================] - 0s 6ms/step - loss: 0.2355 - accuracy: 0.9062 - val_loss: 0.2698 - val_accuracy: 0.8875\n",
            "Epoch 68/100\n",
            "10/10 [==============================] - 0s 7ms/step - loss: 0.2352 - accuracy: 0.9062 - val_loss: 0.2678 - val_accuracy: 0.9000\n",
            "Epoch 69/100\n",
            "10/10 [==============================] - 0s 6ms/step - loss: 0.2348 - accuracy: 0.9094 - val_loss: 0.2657 - val_accuracy: 0.9125\n",
            "Epoch 70/100\n",
            "10/10 [==============================] - 0s 8ms/step - loss: 0.2347 - accuracy: 0.9094 - val_loss: 0.2665 - val_accuracy: 0.9125\n",
            "Epoch 71/100\n",
            "10/10 [==============================] - 0s 7ms/step - loss: 0.2350 - accuracy: 0.9062 - val_loss: 0.2665 - val_accuracy: 0.9125\n",
            "Epoch 72/100\n",
            "10/10 [==============================] - 0s 8ms/step - loss: 0.2340 - accuracy: 0.9094 - val_loss: 0.2691 - val_accuracy: 0.9000\n",
            "Epoch 73/100\n",
            "10/10 [==============================] - 0s 6ms/step - loss: 0.2336 - accuracy: 0.9094 - val_loss: 0.2687 - val_accuracy: 0.9125\n",
            "Epoch 74/100\n",
            "10/10 [==============================] - 0s 6ms/step - loss: 0.2336 - accuracy: 0.9094 - val_loss: 0.2690 - val_accuracy: 0.9125\n",
            "Epoch 75/100\n",
            "10/10 [==============================] - 0s 8ms/step - loss: 0.2333 - accuracy: 0.9094 - val_loss: 0.2666 - val_accuracy: 0.9125\n",
            "Epoch 76/100\n",
            "10/10 [==============================] - 0s 12ms/step - loss: 0.2328 - accuracy: 0.9094 - val_loss: 0.2665 - val_accuracy: 0.9125\n",
            "Epoch 77/100\n",
            "10/10 [==============================] - 0s 7ms/step - loss: 0.2334 - accuracy: 0.9094 - val_loss: 0.2644 - val_accuracy: 0.9250\n",
            "Epoch 78/100\n",
            "10/10 [==============================] - 0s 6ms/step - loss: 0.2324 - accuracy: 0.9094 - val_loss: 0.2671 - val_accuracy: 0.9250\n",
            "Epoch 79/100\n",
            "10/10 [==============================] - 0s 6ms/step - loss: 0.2322 - accuracy: 0.9094 - val_loss: 0.2658 - val_accuracy: 0.9125\n",
            "Epoch 80/100\n",
            "10/10 [==============================] - 0s 6ms/step - loss: 0.2320 - accuracy: 0.9094 - val_loss: 0.2657 - val_accuracy: 0.9125\n",
            "Epoch 81/100\n",
            "10/10 [==============================] - 0s 7ms/step - loss: 0.2321 - accuracy: 0.9094 - val_loss: 0.2684 - val_accuracy: 0.9250\n",
            "Epoch 82/100\n",
            "10/10 [==============================] - 0s 7ms/step - loss: 0.2318 - accuracy: 0.9094 - val_loss: 0.2680 - val_accuracy: 0.9250\n",
            "Epoch 83/100\n",
            "10/10 [==============================] - 0s 7ms/step - loss: 0.2313 - accuracy: 0.9094 - val_loss: 0.2657 - val_accuracy: 0.9125\n",
            "Epoch 84/100\n",
            "10/10 [==============================] - 0s 7ms/step - loss: 0.2311 - accuracy: 0.9094 - val_loss: 0.2668 - val_accuracy: 0.9125\n",
            "Epoch 85/100\n",
            "10/10 [==============================] - 0s 9ms/step - loss: 0.2311 - accuracy: 0.9094 - val_loss: 0.2657 - val_accuracy: 0.9125\n",
            "Epoch 86/100\n",
            "10/10 [==============================] - 0s 7ms/step - loss: 0.2308 - accuracy: 0.9062 - val_loss: 0.2656 - val_accuracy: 0.9125\n",
            "Epoch 87/100\n",
            "10/10 [==============================] - 0s 7ms/step - loss: 0.2311 - accuracy: 0.9094 - val_loss: 0.2651 - val_accuracy: 0.9125\n",
            "Epoch 88/100\n",
            "10/10 [==============================] - 0s 7ms/step - loss: 0.2306 - accuracy: 0.9094 - val_loss: 0.2665 - val_accuracy: 0.9250\n",
            "Epoch 89/100\n",
            "10/10 [==============================] - 0s 7ms/step - loss: 0.2301 - accuracy: 0.9094 - val_loss: 0.2672 - val_accuracy: 0.9250\n",
            "Epoch 90/100\n",
            "10/10 [==============================] - 0s 7ms/step - loss: 0.2304 - accuracy: 0.9062 - val_loss: 0.2671 - val_accuracy: 0.9250\n",
            "Epoch 91/100\n",
            "10/10 [==============================] - 0s 9ms/step - loss: 0.2299 - accuracy: 0.9125 - val_loss: 0.2663 - val_accuracy: 0.9250\n",
            "Epoch 92/100\n",
            "10/10 [==============================] - 0s 7ms/step - loss: 0.2299 - accuracy: 0.9062 - val_loss: 0.2637 - val_accuracy: 0.9125\n",
            "Epoch 93/100\n",
            "10/10 [==============================] - 0s 7ms/step - loss: 0.2296 - accuracy: 0.9094 - val_loss: 0.2654 - val_accuracy: 0.9250\n",
            "Epoch 94/100\n",
            "10/10 [==============================] - 0s 9ms/step - loss: 0.2293 - accuracy: 0.9094 - val_loss: 0.2676 - val_accuracy: 0.9250\n",
            "Epoch 95/100\n",
            "10/10 [==============================] - 0s 7ms/step - loss: 0.2293 - accuracy: 0.9125 - val_loss: 0.2669 - val_accuracy: 0.9250\n",
            "Epoch 96/100\n",
            "10/10 [==============================] - 0s 9ms/step - loss: 0.2290 - accuracy: 0.9094 - val_loss: 0.2663 - val_accuracy: 0.9250\n",
            "Epoch 97/100\n",
            "10/10 [==============================] - 0s 7ms/step - loss: 0.2287 - accuracy: 0.9125 - val_loss: 0.2651 - val_accuracy: 0.9250\n",
            "Epoch 98/100\n",
            "10/10 [==============================] - 0s 9ms/step - loss: 0.2288 - accuracy: 0.9094 - val_loss: 0.2660 - val_accuracy: 0.9250\n",
            "Epoch 99/100\n",
            "10/10 [==============================] - 0s 7ms/step - loss: 0.2285 - accuracy: 0.9125 - val_loss: 0.2650 - val_accuracy: 0.9125\n",
            "Epoch 100/100\n",
            "10/10 [==============================] - 0s 7ms/step - loss: 0.2282 - accuracy: 0.9094 - val_loss: 0.2636 - val_accuracy: 0.9125\n"
          ]
        }
      ],
      "source": [
        "model = Sequential()\n",
        "\n",
        "model.add(Dense(128,activation='relu',input_dim=2))\n",
        "model.add(Dense(1,activation='sigmoid'))\n",
        "\n",
        "model.compile(optimizer='adam',loss='binary_crossentropy',metrics=['accuracy'])\n",
        "\n",
        "history = model.fit(X_train_scaled,y_train,validation_data=(X_test_scaled,y_test),epochs=100)"
      ]
    },
    {
      "cell_type": "code",
      "execution_count": 23,
      "metadata": {
        "colab": {
          "base_uri": "https://localhost:8080/",
          "height": 283
        },
        "id": "InsXWldoAVWW",
        "outputId": "713d06f2-5f89-4818-9530-04c42cc33345"
      },
      "outputs": [
        {
          "data": {
            "text/plain": [
              "[<matplotlib.lines.Line2D at 0x1820a2dc150>]"
            ]
          },
          "execution_count": 23,
          "metadata": {},
          "output_type": "execute_result"
        },
        {
          "data": {
            "image/png": "[encoded data removed]",
            "text/plain": [
              "<Figure size 640x480 with 1 Axes>"
            ]
          },
          "metadata": {},
          "output_type": "display_data"
        }
      ],
      "source": [
        "import matplotlib.pyplot as plt\n",
        "plt.plot(history.history['val_accuracy'])"
      ]
    },
    {
      "cell_type": "code",
      "execution_count": null,
      "metadata": {
        "id": "o_NJJT__Abp1"
      },
      "outputs": [],
      "source": []
    }
  ],
  "metadata": {
    "colab": {
      "provenance": []
    },
    "kernelspec": {
      "display_name": "Python 3",
      "name": "python3"
    },
    "language_info": {
      "codemirror_mode": {
        "name": "ipython",
        "version": 3
      },
      "file_extension": ".py",
      "mimetype": "text/x-python",
      "name": "python",
      "nbconvert_exporter": "python",
      "pygments_lexer": "ipython3",
      "version": "3.11.4"
    }
  },
  "nbformat": 4,
  "nbformat_minor": 0
}
