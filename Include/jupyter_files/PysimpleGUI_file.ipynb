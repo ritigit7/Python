{
 "cells": [
  {
   "cell_type": "code",
   "execution_count": null,
   "metadata": {},
   "outputs": [],
   "source": [
    "import PySimpleGUI as sg\n",
    "\n",
    "layout=[[sg.Text(text=\"Hello world\",justification='center')],\n",
    "        [sg.Button('click')]]\n",
    "window=sg.Window(\"Trial\",layout,size=(200,100))\n",
    "while True:\n",
    "    event,value=window.read()\n",
    "    # print(event,value)\n",
    "    if event in (None,'Exit'):\n",
    "        break\n",
    "    if event=='click':\n",
    "        sg.popup('ok')\n",
    "        sg.popup_get_file('Select a file',  title=\"File selector\")\n",
    "        print(\"ok\")\n",
    "window.close()"
   ]
  },
  {
   "cell_type": "code",
   "execution_count": null,
   "metadata": {},
   "outputs": [],
   "source": [
    "import PySimpleGUI as sg\n",
    "import pymongo as mg\n",
    "\n",
    "layout=[\n",
    "    [sg.Text(text=\"Name          :\"),sg.Input(key='-I-')],\n",
    "    [sg.Text(text=\"Enrollment   :\"),sg.Input(key='-J-')],\n",
    "    [sg.Text(text=\"College Year :\"),sg.Input(key='-K-')],\n",
    "    [sg.OK(),sg.Exit()]\n",
    "         ]\n",
    "\n",
    "window=sg.Window(\"Student Data\",layout,size=(400,130))\n",
    "\n",
    "while True:\n",
    "    event,value=window.read()\n",
    "    if event in (None,'Exit'):\n",
    "        break\n",
    "    print(event,value)\n",
    "    window['-J-'].update('')\n",
    "    window['-K-'].update('')\n",
    "    window['-I-'].update('')\n",
    "window.close()"
   ]
  }
 ],
 "metadata": {
  "kernelspec": {
   "display_name": ".venv",
   "language": "python",
   "name": "python3"
  },
  "language_info": {
   "codemirror_mode": {
    "name": "ipython",
    "version": 3
   },
   "file_extension": ".py",
   "mimetype": "text/x-python",
   "name": "python",
   "nbconvert_exporter": "python",
   "pygments_lexer": "ipython3",
   "version": "3.11.4"
  }
 },
 "nbformat": 4,
 "nbformat_minor": 2
}
