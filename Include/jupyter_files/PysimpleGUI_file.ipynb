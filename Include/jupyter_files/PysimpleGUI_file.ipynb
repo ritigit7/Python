{
 "cells": [
  {
   "cell_type": "code",
   "execution_count": 7,
   "metadata": {},
   "outputs": [
    {
     "name": "stdout",
     "output_type": "stream",
     "text": [
      "None []\n"
     ]
    }
   ],
   "source": [
    "import PySimpleGUI as sg\n",
    "\n",
    "layout=[[sg.Text(text=\"Hello world\",justification='center')],]\n",
    "window=sg.Window(\"Trial\",layout,size=(200,100))\n",
    "while True:\n",
    "    event,value=window.read()\n",
    "    print(event,value)\n",
    "    if event in (None,'Exit'):\n",
    "        break\n",
    "window.close()"
   ]
  }
 ],
 "metadata": {
  "kernelspec": {
   "display_name": ".venv",
   "language": "python",
   "name": "python3"
  },
  "language_info": {
   "codemirror_mode": {
    "name": "ipython",
    "version": 3
   },
   "file_extension": ".py",
   "mimetype": "text/x-python",
   "name": "python",
   "nbconvert_exporter": "python",
   "pygments_lexer": "ipython3",
   "version": "3.11.4"
  }
 },
 "nbformat": 4,
 "nbformat_minor": 2
}
