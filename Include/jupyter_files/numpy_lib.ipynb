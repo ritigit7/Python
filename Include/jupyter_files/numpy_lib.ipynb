{
 "cells": [
  {
   "cell_type": "code",
   "execution_count": 3,
   "metadata": {},
   "outputs": [
    {
     "name": "stdout",
     "output_type": "stream",
     "text": [
      "[0.40189929 0.13970448 0.75252064 0.13126907 0.58566001]\n",
      "[-0.14177314 -0.74446043  0.79224845 -0.08694054 -0.36844011]\n",
      "[0.47042862 0.57835497 0.14006154 0.26287944 0.64312525]\n",
      "5.74332735896163\n",
      "0\n",
      "2.9770082478801894\n",
      "[ 1 10  9  0  0]\n"
     ]
    }
   ],
   "source": [
    "import numpy as np\n",
    "\n",
    "x=np.random.rand(5)\n",
    "y=np.random.randn(5)\n",
    "z=np.random.random(5)\n",
    "w=np.random.randint(0,5,5)\n",
    "w=np.random.normal(5)\n",
    "a=np.random.choice(5)\n",
    "b=np.random.uniform(5)\n",
    "\n",
    "print(x)\n",
    "print(y)\n",
    "print(z)\n",
    "print(w)\n",
    "print(a)\n",
    "print(b)\n",
    "\n",
    "print(np.random.randint(0,11,5))"
   ]
  },
  {
   "cell_type": "code",
   "execution_count": 6,
   "metadata": {},
   "outputs": [
    {
     "name": "stdout",
     "output_type": "stream",
     "text": [
      "[1, 0, 0, 0, 0, 1, 0, 0, 0, 0, 0, 0, 0, 0, 0, 0, 1, 0, 1, 0]\n",
      "[1 0 0 0 0 1 0 0 0 0 0 0 0 0 0 0 1 0 1 0]\n"
     ]
    },
    {
     "data": {
      "text/plain": [
       "array([[1, 0, 0, 0],\n",
       "       [0, 1, 0, 0],\n",
       "       [0, 0, 0, 0],\n",
       "       [0, 0, 0, 0],\n",
       "       [1, 0, 1, 0]])"
      ]
     },
     "execution_count": 6,
     "metadata": {},
     "output_type": "execute_result"
    }
   ],
   "source": [
    "mat=[1,0, 0, 0, 0, 1, 0, 0, 0, 0, 0, 0, 0, 0, 0, 0, 1, 0, 1, 0]\n",
    "print(mat)\n",
    "t=np.array(mat)\n",
    "print(t)\n",
    "t.reshape(5,4)"
   ]
  }
 ],
 "metadata": {
  "kernelspec": {
   "display_name": "Python 3 (ipykernel)",
   "language": "python",
   "name": "python3"
  },
  "language_info": {
   "codemirror_mode": {
    "name": "ipython",
    "version": 3
   },
   "file_extension": ".py",
   "mimetype": "text/x-python",
   "name": "python",
   "nbconvert_exporter": "python",
   "pygments_lexer": "ipython3",
   "version": "3.11.4"
  }
 },
 "nbformat": 4,
 "nbformat_minor": 2
}
